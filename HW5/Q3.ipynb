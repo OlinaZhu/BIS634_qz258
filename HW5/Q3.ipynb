{
 "cells": [
  {
   "cell_type": "code",
   "execution_count": 1,
   "metadata": {
    "collapsed": true
   },
   "outputs": [],
   "source": [
    "# import libraries\n",
    "import pandas as pd\n",
    "import seaborn as sns\n",
    "from matplotlib import pyplot as plt\n",
    "import random"
   ]
  },
  {
   "cell_type": "code",
   "execution_count": 6,
   "outputs": [],
   "source": [
    "# modifying code from Q2 to build quad-tree class\n",
    "class QTree:\n",
    "    def __init__(self, value):\n",
    "        self.value = value\n",
    "        self.children = []\n",
    "        self.xlo = None\n",
    "        self.xhi = None\n",
    "        self.ylo = None\n",
    "        self.yhi = None\n",
    "        self.type = None"
   ],
   "metadata": {
    "collapsed": false,
    "pycharm": {
     "name": "#%%\n"
    }
   }
  },
  {
   "cell_type": "code",
   "execution_count": 7,
   "outputs": [],
   "source": [
    "# implementing 2-dimensional k-nearest neighbors using quad-tree\n",
    "def quad_tree(tree, data, val, k):\n",
    "    # initialize n clsuter centers\n",
    "    n = random.randint(0,max(2,len(data)//10))\n",
    "    centers = random.choices(data, n)\n",
    "    for i in range(len(centers)):\n",
    "        # attaching new node to existing non-empty tree via comparison of coordinates\n",
    "        if tree:\n",
    "            tree.children.append(centers[i])\n",
    "            if centers[i][0] <= tree.value[0]:\n",
    "                if centers[i][1] <= tree.value[1]: tree = tree.xlo\n",
    "                else: tree = tree.xhi\n",
    "            else:\n",
    "                if centers[i][1] <= tree.value[1]: tree = tree.ylo\n",
    "                else: tree = tree.yhi\n",
    "        # filling in information in new node\n",
    "        # I got completely lost by this part\n",
    "        tree.xlo = QTree(0)\n",
    "        tree.xhi = QTree(0)\n",
    "        tree.ylo = QTree(0)\n",
    "        tree.yhi = QTree(0)\n",
    "        tree.value = centers[i]\n",
    "        tree.type = centers[i][2]\n",
    "    # go into recursive helper function for adding nodes\n",
    "    output_tree = recurse(tree, data[:n], k)\n",
    "    return output_tree\n",
    "\n",
    "# recursive helper function\n",
    "def recurse(tree, data, k):\n",
    "    if not tree: return tree\n",
    "    # recursively add children nodes here but I do not know how to do it\n",
    "    return tree"
   ],
   "metadata": {
    "collapsed": false,
    "pycharm": {
     "name": "#%%\n"
    }
   }
  }
 ],
 "metadata": {
  "kernelspec": {
   "display_name": "Python 3",
   "language": "python",
   "name": "python3"
  },
  "language_info": {
   "codemirror_mode": {
    "name": "ipython",
    "version": 2
   },
   "file_extension": ".py",
   "mimetype": "text/x-python",
   "name": "python",
   "nbconvert_exporter": "python",
   "pygments_lexer": "ipython2",
   "version": "2.7.6"
  }
 },
 "nbformat": 4,
 "nbformat_minor": 0
}