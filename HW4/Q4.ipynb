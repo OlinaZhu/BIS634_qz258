{
 "cells": [
  {
   "cell_type": "code",
   "execution_count": 5,
   "metadata": {
    "collapsed": true
   },
   "outputs": [],
   "source": [
    "# import libraries\n",
    "import matplotlib.pyplot as plt\n",
    "import numpy as np"
   ]
  },
  {
   "cell_type": "code",
   "execution_count": 55,
   "outputs": [],
   "source": [
    "# modifying code given in class\n",
    "def smith_waterman(seq1, seq2, match, gap_penalty, mismatch_penalty):\n",
    "    # initialize grid\n",
    "    data = np.zeros((len(seq1), len(seq2)))\n",
    "    # enumerate over sequences\n",
    "    for i, base1 in enumerate(seq1):\n",
    "        # store max length and coordinates\n",
    "        max_len = 1\n",
    "        max_i = 0\n",
    "        max_j = 0\n",
    "        for j, base2 in enumerate(seq2):\n",
    "            # if the two chars are identical\n",
    "            if base1 == base2:\n",
    "                # if square is already filled in due to gaps in previous enumerations\n",
    "                # keep the larger number\n",
    "                # this also takes care of the horizontal gap scenario\n",
    "                # because every char in seq1 are compared with all chars in seq2 sequentially\n",
    "                # and max match length is taken\n",
    "                # data[i, j] = current square\n",
    "                # data[i-1, j-1] + 1 = diagonally before\n",
    "                # data[i-1, j-2[ = horizontal gap (down 1, right 2)\n",
    "                if i > 0 and j > 0:\n",
    "                    data[i,j] = max(data[i,j], data[i-1,j-1] + 1)\n",
    "                if i > 0 and j > 1:\n",
    "                    data[i,j] = max(data[i,j], data[i-1,j-1] + 1, data[i-1, j-2]+1)\n",
    "            # if there is a gap vertically\n",
    "            elif i < len(seq1)-1:\n",
    "                if seq1[i+1] == base2:\n",
    "                    if i > 0 and j > 0:\n",
    "                        # take maximum between its current value and (1 + (value at up 2, left 1))\n",
    "                        data[i+1,j] = max(data[i+1,j], data[i-1,j-1]+1)\n",
    "                    else:\n",
    "                        data[i+1,j] += 1\n",
    "            # update longest sequence\n",
    "            if data[i,j] > max_len:\n",
    "                max_len = data[i,j]\n",
    "                max_i = i\n",
    "                max_j = j\n",
    "                print(max_len)\n",
    "    print(max_len, \"s1\", seq1[max_i], \"s2\", seq2[max_j])\n",
    "    print(\"[\", max_i,\",\", max_j,\"]\")\n",
    "    # plot graph\n",
    "    plt.xticks(range(len(seq2)), labels=seq2)\n",
    "    plt.yticks(range(len(seq1)), labels=seq1)\n",
    "    plt.imshow(data, interpolation='nearest',\n",
    "               cmap='binary')\n",
    "    plt.gca().xaxis.tick_top()"
   ],
   "metadata": {
    "collapsed": false,
    "pycharm": {
     "name": "#%%\n"
    }
   }
  },
  {
   "cell_type": "code",
   "execution_count": 54,
   "outputs": [
    {
     "name": "stdout",
     "output_type": "stream",
     "text": [
      "2.0\n",
      "2.0\n",
      "3.0\n",
      "2.0\n",
      "4.0\n",
      "3.0\n",
      "4.0\n",
      "3.0\n",
      "4.0\n",
      "5.0\n",
      "5.0\n",
      "2.0\n",
      "6.0\n",
      "2.0\n",
      "7.0\n",
      "2.0\n",
      "8.0\n",
      "3.0\n",
      "8.0\n",
      "4.0\n",
      "5.0\n",
      "2.0\n",
      "6.0\n",
      "2.0\n",
      "7.0\n",
      "3.0\n",
      "8.0\n",
      "3.0\n",
      "4.0\n",
      "4.0 s1 C s2 C\n",
      "[ 17 , 5 ]\n"
     ]
    },
    {
     "data": {
      "text/plain": "<Figure size 432x288 with 1 Axes>",
      "image/png": "[encoded data removed]"
     },
     "metadata": {
      "needs_background": "light"
     },
     "output_type": "display_data"
    }
   ],
   "source": [
    "# test function\n",
    "smith_waterman('ACTAGACCTAGCATCGAC', 'TGCATCGAGACCCTACGTGAC', 1, 1, 1)\n",
    "plt.show()"
   ],
   "metadata": {
    "collapsed": false,
    "pycharm": {
     "name": "#%%\n"
    }
   }
  }
 ],
 "metadata": {
  "kernelspec": {
   "display_name": "Python 3",
   "language": "python",
   "name": "python3"
  },
  "language_info": {
   "codemirror_mode": {
    "name": "ipython",
    "version": 2
   },
   "file_extension": ".py",
   "mimetype": "text/x-python",
   "name": "python",
   "nbconvert_exporter": "python",
   "pygments_lexer": "ipython2",
   "version": "2.7.6"
  }
 },
 "nbformat": 4,
 "nbformat_minor": 0
}