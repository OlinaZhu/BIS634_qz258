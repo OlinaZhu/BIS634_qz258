{
 "cells": [
  {
   "cell_type": "code",
   "execution_count": 32,
   "metadata": {
    "collapsed": true
   },
   "outputs": [],
   "source": [
    "# import libraries\n",
    "import pandas as pd\n",
    "import numpy as np\n",
    "import seaborn as sns\n",
    "import requests\n",
    "import xml.dom.minidom as m\n",
    "import xml.etree.ElementTree as et\n",
    "import time as time\n",
    "import json\n",
    "import plotnine as plt"
   ]
  },
  {
   "cell_type": "code",
   "execution_count": 19,
   "outputs": [],
   "source": [
    "# import data for Alzheimer articles\n",
    "al_dict = {}\n",
    "with open(\"Alzheimer.json\") as f:\n",
    "    al_dict = json.load(f)"
   ],
   "metadata": {
    "collapsed": false,
    "pycharm": {
     "name": "#%%\n"
    }
   }
  },
  {
   "cell_type": "code",
   "execution_count": 20,
   "outputs": [],
   "source": [
    "# import data for cancer articles\n",
    "cn_dict = {}\n",
    "with open(\"Alzheimer.json\") as f:\n",
    "    cn_dict = json.load(f)"
   ],
   "metadata": {
    "collapsed": false,
    "pycharm": {
     "name": "#%%\n"
    }
   }
  },
  {
   "cell_type": "code",
   "execution_count": 21,
   "outputs": [
    {
     "data": {
      "text/plain": "                                                      title  \\\n33939349  Electroconvulsive Therapy for the Treatment of...   \n33841007  Gintonin facilitates brain delivery of donepez...   \n33627920  Bayesian Scalar on Image Regression With Nonig...   \n33463291  The Structural Basis of Amyloid Strains in Alz...   \n33323224  Healthy ageing through internet counselling in...   \n\n                                                   abstract query mesh  \n33939349  Dementia refers to a state of cognitive impair...   N/A  N/A  \n33841007  Gintonin is a ginseng-derived exogenous G-prot...   N/A  N/A  \n33627920  Medical imaging has become an increasingly imp...   N/A  N/A  \n33463291  Amyloid fibrils represent one of the defining ...   N/A  N/A  \n33323224  Although web-based interventions have been pro...   N/A  N/A  ",
      "text/html": "<div>\n<style scoped>\n    .dataframe tbody tr th:only-of-type {\n        vertical-align: middle;\n    }\n\n    .dataframe tbody tr th {\n        vertical-align: top;\n    }\n\n    .dataframe thead th {\n        text-align: right;\n    }\n</style>\n<table border=\"1\" class=\"dataframe\">\n  <thead>\n    <tr style=\"text-align: right;\">\n      <th></th>\n      <th>title</th>\n      <th>abstract</th>\n      <th>query</th>\n      <th>mesh</th>\n    </tr>\n  </thead>\n  <tbody>\n    <tr>\n      <th>33939349</th>\n      <td>Electroconvulsive Therapy for the Treatment of...</td>\n      <td>Dementia refers to a state of cognitive impair...</td>\n      <td>N/A</td>\n      <td>N/A</td>\n    </tr>\n    <tr>\n      <th>33841007</th>\n      <td>Gintonin facilitates brain delivery of donepez...</td>\n      <td>Gintonin is a ginseng-derived exogenous G-prot...</td>\n      <td>N/A</td>\n      <td>N/A</td>\n    </tr>\n    <tr>\n      <th>33627920</th>\n      <td>Bayesian Scalar on Image Regression With Nonig...</td>\n      <td>Medical imaging has become an increasingly imp...</td>\n      <td>N/A</td>\n      <td>N/A</td>\n    </tr>\n    <tr>\n      <th>33463291</th>\n      <td>The Structural Basis of Amyloid Strains in Alz...</td>\n      <td>Amyloid fibrils represent one of the defining ...</td>\n      <td>N/A</td>\n      <td>N/A</td>\n    </tr>\n    <tr>\n      <th>33323224</th>\n      <td>Healthy ageing through internet counselling in...</td>\n      <td>Although web-based interventions have been pro...</td>\n      <td>N/A</td>\n      <td>N/A</td>\n    </tr>\n  </tbody>\n</table>\n</div>"
     },
     "execution_count": 21,
     "metadata": {},
     "output_type": "execute_result"
    }
   ],
   "source": [
    "# create dataframe from al_dict\n",
    "al_df = pd.DataFrame.from_dict(al_dict, orient='index')\n",
    "al_df.head()"
   ],
   "metadata": {
    "collapsed": false,
    "pycharm": {
     "name": "#%%\n"
    }
   }
  },
  {
   "cell_type": "code",
   "execution_count": 22,
   "outputs": [
    {
     "data": {
      "text/plain": "                                                      title  \\\n33939349  Electroconvulsive Therapy for the Treatment of...   \n33841007  Gintonin facilitates brain delivery of donepez...   \n33627920  Bayesian Scalar on Image Regression With Nonig...   \n33463291  The Structural Basis of Amyloid Strains in Alz...   \n33323224  Healthy ageing through internet counselling in...   \n\n                                                   abstract query mesh  \n33939349  Dementia refers to a state of cognitive impair...   N/A  N/A  \n33841007  Gintonin is a ginseng-derived exogenous G-prot...   N/A  N/A  \n33627920  Medical imaging has become an increasingly imp...   N/A  N/A  \n33463291  Amyloid fibrils represent one of the defining ...   N/A  N/A  \n33323224  Although web-based interventions have been pro...   N/A  N/A  ",
      "text/html": "<div>\n<style scoped>\n    .dataframe tbody tr th:only-of-type {\n        vertical-align: middle;\n    }\n\n    .dataframe tbody tr th {\n        vertical-align: top;\n    }\n\n    .dataframe thead th {\n        text-align: right;\n    }\n</style>\n<table border=\"1\" class=\"dataframe\">\n  <thead>\n    <tr style=\"text-align: right;\">\n      <th></th>\n      <th>title</th>\n      <th>abstract</th>\n      <th>query</th>\n      <th>mesh</th>\n    </tr>\n  </thead>\n  <tbody>\n    <tr>\n      <th>33939349</th>\n      <td>Electroconvulsive Therapy for the Treatment of...</td>\n      <td>Dementia refers to a state of cognitive impair...</td>\n      <td>N/A</td>\n      <td>N/A</td>\n    </tr>\n    <tr>\n      <th>33841007</th>\n      <td>Gintonin facilitates brain delivery of donepez...</td>\n      <td>Gintonin is a ginseng-derived exogenous G-prot...</td>\n      <td>N/A</td>\n      <td>N/A</td>\n    </tr>\n    <tr>\n      <th>33627920</th>\n      <td>Bayesian Scalar on Image Regression With Nonig...</td>\n      <td>Medical imaging has become an increasingly imp...</td>\n      <td>N/A</td>\n      <td>N/A</td>\n    </tr>\n    <tr>\n      <th>33463291</th>\n      <td>The Structural Basis of Amyloid Strains in Alz...</td>\n      <td>Amyloid fibrils represent one of the defining ...</td>\n      <td>N/A</td>\n      <td>N/A</td>\n    </tr>\n    <tr>\n      <th>33323224</th>\n      <td>Healthy ageing through internet counselling in...</td>\n      <td>Although web-based interventions have been pro...</td>\n      <td>N/A</td>\n      <td>N/A</td>\n    </tr>\n  </tbody>\n</table>\n</div>"
     },
     "execution_count": 22,
     "metadata": {},
     "output_type": "execute_result"
    }
   ],
   "source": [
    "# create dataframe from cn_dict\n",
    "cn_df = pd.DataFrame.from_dict(cn_dict, orient='index')\n",
    "cn_df.head()"
   ],
   "metadata": {
    "collapsed": false,
    "pycharm": {
     "name": "#%%\n"
    }
   }
  },
  {
   "cell_type": "code",
   "execution_count": 26,
   "outputs": [
    {
     "name": "stdout",
     "output_type": "stream",
     "text": [
      "There are 1000 Alzheimer papers that have no MeSH terms.\n"
     ]
    }
   ],
   "source": [
    "# count number of Alzheimer papers that have no MeSH terms\n",
    "# note that the finding of mesh terms in Q1 is incorrect hence no mesh terms exist in dataframes, but this is inaccurate\n",
    "al_no_mesh = len(al_df[al_df['mesh'] == \"N/A\"])\n",
    "print(\"There are\", al_no_mesh, \"Alzheimer papers that have no MeSH terms.\")"
   ],
   "metadata": {
    "collapsed": false,
    "pycharm": {
     "name": "#%%\n"
    }
   }
  },
  {
   "cell_type": "code",
   "execution_count": 27,
   "outputs": [
    {
     "name": "stdout",
     "output_type": "stream",
     "text": [
      "There are 1000 cancer papers that have no MeSH terms.\n"
     ]
    }
   ],
   "source": [
    "# count number of cancer papers that have no MeSH terms\n",
    "cn_no_mesh = len(cn_df[cn_df['mesh'] == \"N/A\"])\n",
    "print(\"There are\", cn_no_mesh, \"cancer papers that have no MeSH terms.\")"
   ],
   "metadata": {
    "collapsed": false,
    "pycharm": {
     "name": "#%%\n"
    }
   }
  },
  {
   "cell_type": "code",
   "execution_count": null,
   "outputs": [],
   "source": [
    "# function for finding 10 most frequent mesh terms\n",
    "# returns a dictionary sorted by keys in descending order\n",
    "def mesh_frequency(df):\n",
    "    mesh_counts = {}\n",
    "    meshes = df['mesh']\n",
    "    for m in meshes:\n",
    "        for i in m:\n",
    "            if i not in mesh_counts: mesh_counts[i] = 0\n",
    "            mesh_counts[i] += 1\n",
    "    dict(sorted(mesh_counts.items(), key=lambda item: item[1], ascending=False))\n",
    "    return mesh_counts"
   ],
   "metadata": {
    "collapsed": false,
    "pycharm": {
     "name": "#%%\n"
    }
   }
  },
  {
   "cell_type": "code",
   "execution_count": null,
   "outputs": [],
   "source": [
    "# 10 most frequent mesh terms in al_df\n",
    "# due to error in extracting mesh and query information in Q1, below results and graph are incorrect but code could work for another dataset\n",
    "al_top_10_mesh = mesh_frequency(al_df)"
   ],
   "metadata": {
    "collapsed": false,
    "pycharm": {
     "name": "#%%\n"
    }
   }
  },
  {
   "cell_type": "code",
   "execution_count": null,
   "outputs": [],
   "source": [
    "# plot frequency of 10 most common al_df mesh terms\n",
    "al_x = list(al_top_10_mesh.keys()[:10])\n",
    "al_y = list(al_top_10_mesh.values()[:10])\n",
    "\n",
    "plt.bar(range(len(al_top_10_mesh)), al_y, tick_label=al_x)\n",
    "plt.show()"
   ],
   "metadata": {
    "collapsed": false,
    "pycharm": {
     "name": "#%%\n"
    }
   }
  },
  {
   "cell_type": "code",
   "execution_count": 31,
   "outputs": [],
   "source": [
    "# 10 most frequent mesh terms in cn_df\n",
    "# due to error in extracting mesh and query information in Q1, below results and graph are incorrect but code could work for another dataset\n",
    "cn_top_10_mesh = mesh_frequency(cn_df)"
   ],
   "metadata": {
    "collapsed": false,
    "pycharm": {
     "name": "#%%\n"
    }
   }
  },
  {
   "cell_type": "code",
   "execution_count": null,
   "outputs": [],
   "source": [
    "# plot frequency of 10 most common cn_df mesh terms\n",
    "cn_x = list(cn_top_10_mesh.keys()[:10])\n",
    "cn_y = list(cn_top_10_mesh.values()[:10])\n",
    "\n",
    "plt.bar(range(len(cn_top_10_mesh)), cn_y, tick_label=cn_x)\n",
    "plt.show()"
   ],
   "metadata": {
    "collapsed": false,
    "pycharm": {
     "name": "#%%\n"
    }
   }
  },
  {
   "cell_type": "code",
   "execution_count": null,
   "outputs": [],
   "source": [
    "# table comparing number of articles from cn_df and al_df that have both matching mesh terms as specified in homework manual\n",
    "al_top_5_mesh = al_x[:5]\n",
    "cn_top_5_mesh = cn_x[:5]\n",
    "\n",
    "al_cn_mesh = pd.DataFrame(index=al_top_5_mesh, columns=cn_top_5_mesh)\n",
    "\n",
    "for row in al_top_5_mesh:\n",
    "    for col in cn_top_5_mesh:\n",
    "        al_cn_mesh.loc[row][col] = al_top_10_mesh[row] + cn_top_10_mesh[col]\n",
    "\n",
    "al_cn_mesh.head()"
   ],
   "metadata": {
    "collapsed": false,
    "pycharm": {
     "name": "#%%\n"
    }
   }
  }
 ],
 "metadata": {
  "kernelspec": {
   "display_name": "Python 3",
   "language": "python",
   "name": "python3"
  },
  "language_info": {
   "codemirror_mode": {
    "name": "ipython",
    "version": 2
   },
   "file_extension": ".py",
   "mimetype": "text/x-python",
   "name": "python",
   "nbconvert_exporter": "python",
   "pygments_lexer": "ipython2",
   "version": "2.7.6"
  }
 },
 "nbformat": 4,
 "nbformat_minor": 0
}