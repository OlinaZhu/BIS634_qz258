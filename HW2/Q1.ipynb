{
 "cells": [
  {
   "cell_type": "code",
   "execution_count": 1,
   "metadata": {
    "collapsed": true
   },
   "outputs": [],
   "source": [
    "# import libraries\n",
    "import seaborn as sns\n",
    "import pandas as pd\n",
    "import xml.etree.ElementTree as et\n",
    "import sys\n",
    "\n",
    "#import data\n",
    "xtree = et.parse(\"hw2-patients.xml\")\n",
    "xroot = xtree.getroot()"
   ]
  },
  {
   "cell_type": "code",
   "execution_count": 2,
   "outputs": [
    {
     "data": {
      "text/plain": "             name   age  gender   full_age\n0    Tammy Martin  19.5  female  19.529988\n1   Lucy Stribley   1.6  female   1.602197\n2  Albert Trevino  19.3    male  19.317023\n3     Troy Armour  79.4    male  79.441208\n4   Jose Masseria  71.2    male  71.203863",
      "text/html": "<div>\n<style scoped>\n    .dataframe tbody tr th:only-of-type {\n        vertical-align: middle;\n    }\n\n    .dataframe tbody tr th {\n        vertical-align: top;\n    }\n\n    .dataframe thead th {\n        text-align: right;\n    }\n</style>\n<table border=\"1\" class=\"dataframe\">\n  <thead>\n    <tr style=\"text-align: right;\">\n      <th></th>\n      <th>name</th>\n      <th>age</th>\n      <th>gender</th>\n      <th>full_age</th>\n    </tr>\n  </thead>\n  <tbody>\n    <tr>\n      <th>0</th>\n      <td>Tammy Martin</td>\n      <td>19.5</td>\n      <td>female</td>\n      <td>19.529988</td>\n    </tr>\n    <tr>\n      <th>1</th>\n      <td>Lucy Stribley</td>\n      <td>1.6</td>\n      <td>female</td>\n      <td>1.602197</td>\n    </tr>\n    <tr>\n      <th>2</th>\n      <td>Albert Trevino</td>\n      <td>19.3</td>\n      <td>male</td>\n      <td>19.317023</td>\n    </tr>\n    <tr>\n      <th>3</th>\n      <td>Troy Armour</td>\n      <td>79.4</td>\n      <td>male</td>\n      <td>79.441208</td>\n    </tr>\n    <tr>\n      <th>4</th>\n      <td>Jose Masseria</td>\n      <td>71.2</td>\n      <td>male</td>\n      <td>71.203863</td>\n    </tr>\n  </tbody>\n</table>\n</div>"
     },
     "execution_count": 2,
     "metadata": {},
     "output_type": "execute_result"
    }
   ],
   "source": [
    "# organizing dataset into dataframe\n",
    "col_name = [\"name\", \"age\", \"gender\", \"full_age\"]\n",
    "patient_info = []\n",
    "for node in xroot[2]:\n",
    "    pname = node.attrib.get(\"name\")\n",
    "    pfull_age = float(node.attrib.get(\"age\"))\n",
    "    page = round(pfull_age,1)\n",
    "    pgender = node.attrib.get(\"gender\")\n",
    "    patient_info.append({\"name\":pname, \"age\": page, \"gender\":pgender, \"full_age\":pfull_age})\n",
    "\n",
    "df = pd.DataFrame(patient_info, columns=col_name)\n",
    "df.head()"
   ],
   "metadata": {
    "collapsed": false,
    "pycharm": {
     "name": "#%%\n"
    }
   }
  },
  {
   "cell_type": "code",
   "execution_count": 3,
   "outputs": [
    {
     "data": {
      "text/plain": "<AxesSubplot:ylabel='Count'>"
     },
     "execution_count": 3,
     "metadata": {},
     "output_type": "execute_result"
    },
    {
     "data": {
      "text/plain": "<Figure size 432x288 with 1 Axes>",
      "image/png": "[encoded data removed]"
     },
     "metadata": {
      "needs_background": "light"
     },
     "output_type": "display_data"
    }
   ],
   "source": [
    "# organize dataset by age\n",
    "ages = df[\"age\"].value_counts()\n",
    "age_df = pd.DataFrame(ages)\n",
    "age_df.reset_index()\n",
    "\n",
    "# plot histogram of ages\n",
    "sns.histplot(data=age_df, legend=False)"
   ],
   "metadata": {
    "collapsed": false,
    "pycharm": {
     "name": "#%%\n"
    }
   }
  },
  {
   "cell_type": "code",
   "execution_count": 4,
   "outputs": [
    {
     "name": "stdout",
     "output_type": "stream",
     "text": [
      "The statement that any two or more patients share the same exact age is False\n"
     ]
    }
   ],
   "source": [
    "# find whether any patients share the exact same age\n",
    "df[\"unique_exact_age\"] = df[\"full_age\"].duplicated(keep=False)\n",
    "is_same = df[df[\"unique_exact_age\"] == True]\n",
    "duplicates = is_same['full_age'].count() != 0\n",
    "print(\"The statement that any two or more patients share the same exact age is\", duplicates)"
   ],
   "metadata": {
    "collapsed": false,
    "pycharm": {
     "name": "#%%\n"
    }
   }
  },
  {
   "cell_type": "code",
   "execution_count": 5,
   "outputs": [
    {
     "name": "stdout",
     "output_type": "stream",
     "text": [
      "Provider encoded gender as female, male, and unknown.\n"
     ]
    }
   ],
   "source": [
    "# find the distribution of genders\n",
    "genders = df.groupby(\"gender\")[\"full_age\"].count().reset_index()\n",
    "genders\n",
    "print(\"Provider encoded gender as female, male, and unknown.\")"
   ],
   "metadata": {
    "collapsed": false,
    "pycharm": {
     "name": "#%%\n"
    }
   }
  },
  {
   "cell_type": "code",
   "execution_count": 6,
   "outputs": [
    {
     "data": {
      "text/plain": "<Figure size 432x288 with 1 Axes>",
      "image/png": "[encoded data removed]"
     },
     "metadata": {
      "needs_background": "light"
     },
     "output_type": "display_data"
    }
   ],
   "source": [
    "# plot genders\n",
    "gender_plot = sns.barplot(data=genders, x='gender', y='full_age')"
   ],
   "metadata": {
    "collapsed": false,
    "pycharm": {
     "name": "#%%\n"
    }
   }
  },
  {
   "cell_type": "code",
   "execution_count": 7,
   "outputs": [
    {
     "name": "stdout",
     "output_type": "stream",
     "text": [
      "The oldest patient is 84.99855742449432 years old.\n"
     ]
    }
   ],
   "source": [
    "# sort ages\n",
    "sorted_ages = sorted(df[\"full_age\"])\n",
    "print(\"The oldest patient is\", sorted_ages[-1], \"years old.\")"
   ],
   "metadata": {
    "collapsed": false,
    "pycharm": {
     "name": "#%%\n"
    }
   }
  },
  {
   "cell_type": "code",
   "execution_count": 8,
   "outputs": [
    {
     "name": "stdout",
     "output_type": "stream",
     "text": [
      "Second oldest is 84.9982928781625\n"
     ]
    }
   ],
   "source": [
    "# code for finding second oldest person in O(n) time in unsorted list\n",
    "def find_second_oldest(list):\n",
    "    oldest = 0\n",
    "    second_oldest = 0\n",
    "    for i in list:\n",
    "       if i > oldest: oldest = i\n",
    "       elif i > second_oldest: second_oldest = i\n",
    "    return second_oldest\n",
    "print(\"Second oldest is\", find_second_oldest(df['full_age']))"
   ],
   "metadata": {
    "collapsed": false,
    "pycharm": {
     "name": "#%%\n"
    }
   }
  },
  {
   "cell_type": "code",
   "execution_count": 9,
   "outputs": [
    {
     "name": "stdout",
     "output_type": "stream",
     "text": [
      "James Robertson\n"
     ]
    }
   ],
   "source": [
    "# find patient who is 41.5 years old\n",
    "length = len(df.index)\n",
    "p = length//2\n",
    "target = df.iloc[p]['age']\n",
    "while target != 41.5:\n",
    "    if target > 41.5: p = p//2\n",
    "    elif target < 41.5: p = (length - p)//2\n",
    "    target = df.iloc[p]['age']\n",
    "matched_age_patient = df.iloc[p]\n",
    "print(matched_age_patient['name'])"
   ],
   "metadata": {
    "collapsed": false,
    "pycharm": {
     "name": "#%%\n"
    }
   }
  },
  {
   "cell_type": "code",
   "execution_count": 10,
   "outputs": [
    {
     "name": "stdout",
     "output_type": "stream",
     "text": [
      "There are 150677 people who are at least 41.5 years old in the dataset\n"
     ]
    }
   ],
   "source": [
    "# find number of patients at least 41.5 years old\n",
    "sorted_rounded_ages = sorted(df['age'])\n",
    "index_of_age = sorted_rounded_ages.index(41.5)\n",
    "print(\"There are\", length - index_of_age + 1, \"people who are at least 41.5 years old in the dataset\")"
   ],
   "metadata": {
    "collapsed": false,
    "pycharm": {
     "name": "#%%\n"
    }
   }
  },
  {
   "cell_type": "code",
   "execution_count": 11,
   "outputs": [
    {
     "name": "stdout",
     "output_type": "stream",
     "text": [
      "Test 1: testing consecutive numbers \n",
      " 3 \n",
      " Correct number should be 3 \n",
      "\n",
      "Test 2: testing duplicate numbers and high_age > lst[-1] \n",
      " 4 \n",
      " Correct number should be 4 \n",
      "\n",
      "Test 3: testing subset of df \n",
      " 2 \n",
      " Correct number should be 2 \n",
      "\n",
      "Test 4: testing duplicate high_age \n",
      " 3 \n",
      " Correct number should be 3 \n",
      "\n",
      "Test 5: testing list of two elements \n",
      " 1 \n",
      " Correct number should be 1 \n",
      "\n",
      "Test 6: testing range not in list \n",
      " 0 \n",
      " Correct number should be 0 \n",
      "\n"
     ]
    }
   ],
   "source": [
    "# generalized function returning number of patients who are\n",
    "# at least low_age years old but strictly less than high_age years old\n",
    "# in sorted list lst\n",
    "def num_patients_in_age_range(lst, low_age, high_age):\n",
    "    ph = len(lst)//2\n",
    "    pl = 0\n",
    "    pl_found = False\n",
    "    ph_found = False\n",
    "    carry = 0\n",
    "\n",
    "    # base cases\n",
    "    if len(lst) == 0: return 0\n",
    "    if(lst[-1] < low_age): return 0\n",
    "    if lst[0] >= low_age:\n",
    "        pl_found = True\n",
    "        pl = 0\n",
    "    if lst[-1] <= high_age:\n",
    "        ph_found = True\n",
    "        ph = len(lst) - 1\n",
    "        while lst[ph-1] == lst[ph]: ph -= 1\n",
    "        if lst[ph] < high_age: carry = 1\n",
    "    if(pl_found and ph_found): return ph-pl+carry\n",
    "\n",
    "    # non-base case\n",
    "    # find upper limit\n",
    "    while not ph_found:\n",
    "        # increment/decrement higher pointer\n",
    "        if lst[ph] > high_age: ph = ph//2\n",
    "        elif lst[ph] < high_age:\n",
    "            # if value does not exist return index of lowest value higher than high_age\n",
    "            if ph >= len(lst) - 1: ph_found = True\n",
    "            elif lst[ph+1] > high_age: ph_found = True\n",
    "            else: ph += (len(lst)-ph)//2\n",
    "\n",
    "        # if value matched high_age return value\n",
    "        if lst[ph] == high_age:\n",
    "            ph_found = True\n",
    "\n",
    "    # find lower limit\n",
    "    while not pl_found :\n",
    "        # increment/decrement lower pointer\n",
    "        if lst[pl] > low_age:\n",
    "            # if value does not exist return index of highest value lower than low_age\n",
    "            if lst[pl-1] < low_age: pl_found = True\n",
    "            else: pl = pl//2\n",
    "        elif lst[pl] < low_age: pl += (ph - pl)//2\n",
    "\n",
    "        # if value matched low_age return value\n",
    "        if lst[pl] == low_age: pl_found = True\n",
    "\n",
    "    if pl_found and pl == 0: carry = 1\n",
    "    return ph-pl+carry\n",
    "\n",
    "# test function\n",
    "test_1_lst = [1, 2, 3, 4, 5, 6, 7]\n",
    "test_2_lst = [0, 0, 0, 1, 3, 5, 7, 8]\n",
    "test_3_lst = sorted_rounded_ages[1820:1830]\n",
    "test_4_lst = [0, 1, 3, 5, 7, 8, 8]\n",
    "test_5_lst = [0, 1]\n",
    "test_6_lst = [1,2,3]\n",
    "print(\"Test 1: testing consecutive numbers \\n\", num_patients_in_age_range(test_1_lst, 2, 5), \"\\n Correct number should be 3 \\n\")\n",
    "print(\"Test 2: testing duplicate numbers and high_age > lst[-1] \\n\", num_patients_in_age_range(test_2_lst, 2, 9), \"\\n Correct number should be 4 \\n\")\n",
    "print(\"Test 3: testing subset of df \\n\", num_patients_in_age_range(test_3_lst, 0.3, 0.4), \"\\n Correct number should be 2 \\n\")\n",
    "print(\"Test 4: testing duplicate high_age \\n\", num_patients_in_age_range(test_4_lst, 3, 8), \"\\n Correct number should be 3 \\n\")\n",
    "print(\"Test 5: testing list of two elements \\n\", num_patients_in_age_range(test_5_lst, 0, 1), \"\\n Correct number should be 1 \\n\")\n",
    "print(\"Test 6: testing range not in list \\n\", num_patients_in_age_range(test_6_lst, 8, 10), \"\\n Correct number should be 0 \\n\")"
   ],
   "metadata": {
    "collapsed": false,
    "pycharm": {
     "name": "#%%\n"
    }
   }
  },
  {
   "cell_type": "code",
   "execution_count": 13,
   "outputs": [
    {
     "name": "stdout",
     "output_type": "stream",
     "text": [
      "Testing using first 10 rows of dataframe df: \n",
      "\n",
      "Dataset 1: \n",
      "                name   age  gender   full_age  unique_exact_age\n",
      "0      Tammy Martin  19.5  female  19.529988             False\n",
      "1     Lucy Stribley   1.6  female   1.602197             False\n",
      "2    Albert Trevino  19.3    male  19.317023             False\n",
      "3       Troy Armour  79.4    male  79.441208             False\n",
      "4     Jose Masseria  71.2    male  71.203863             False\n",
      "5   Ethel Ferdinand  77.3  female  77.302707             False\n",
      "6  Elizabeth Heflin   4.2  female   4.246844             False\n",
      "7    Jesica Gautier  24.3  female  24.334514             False\n",
      "8       Marta Allen  26.5  female  26.513040             False\n",
      "9      Thomas Hagan  32.3    male  32.326220             False\n",
      "Total number of patients in age range 0 to 1 is 2\n",
      "Total number of males in age range is 0\n",
      "Testing using last 10 rows of dataframe df: \n",
      "\n",
      "Dataset 2: \n",
      "                  name   age  gender   full_age  unique_exact_age\n",
      "0    Patricia Edwards  21.7  female  21.690118             False\n",
      "1      Kathy Streeter  48.9  female  48.935217             False\n",
      "2  Bernice Sturdivant  11.3  female  11.347592             False\n",
      "3         Percy Whitt  39.1    male  39.128485             False\n",
      "4       Marcus Atkins  29.9    male  29.935480             False\n",
      "5       Lillian Greig  56.2  female  56.241336             False\n",
      "6        Jeremy Brode  61.0    male  60.955355             False\n",
      "7         Lynda Brown  22.7  female  22.676277             False\n",
      "8        Joyce Adkins  64.5  female  64.466378             False\n",
      "9       Kevin Hensley  56.8    male  56.770128             False\n",
      "Total number of patients in age range 4 to 5 is 1\n",
      "Total number of males in age range is 1\n",
      "Testing range not in list: \n",
      "\n",
      "Dataset 3: \n",
      "                  name   age  gender   full_age  unique_exact_age\n",
      "0    Patricia Edwards  21.7  female  21.690118             False\n",
      "1      Kathy Streeter  48.9  female  48.935217             False\n",
      "2  Bernice Sturdivant  11.3  female  11.347592             False\n",
      "3         Percy Whitt  39.1    male  39.128485             False\n",
      "4       Marcus Atkins  29.9    male  29.935480             False\n",
      "5       Lillian Greig  56.2  female  56.241336             False\n",
      "6        Jeremy Brode  61.0    male  60.955355             False\n",
      "7         Lynda Brown  22.7  female  22.676277             False\n",
      "8        Joyce Adkins  64.5  female  64.466378             False\n",
      "9       Kevin Hensley  56.8    male  56.770128             False\n",
      "0 patients match description\n"
     ]
    },
    {
     "ename": "SystemExit",
     "evalue": "Base case was reached, program terminated",
     "output_type": "error",
     "traceback": [
      "An exception has occurred, use %tb to see the full traceback.\n",
      "\u001B[1;31mSystemExit\u001B[0m\u001B[1;31m:\u001B[0m Base case was reached, program terminated\n"
     ]
    },
    {
     "name": "stderr",
     "output_type": "stream",
     "text": [
      "C:\\Users\\olina\\AppData\\Local\\Programs\\Python\\Python39\\lib\\site-packages\\IPython\\core\\interactiveshell.py:3449: UserWarning: To exit: use 'exit', 'quit', or Ctrl-D.\n",
      "  warn(\"To exit: use 'exit', 'quit', or Ctrl-D.\", stacklevel=1)\n"
     ]
    }
   ],
   "source": [
    "# return total number of patients and males in age range\n",
    "def num_patients_males_in_age_range(dataframe, low_age, high_age):\n",
    "    sorted_df = dataframe.sort_values(by=['age'])\n",
    "    lst = sorted_df[\"age\"].reset_index(drop=True)\n",
    "    ph = len(lst)//2\n",
    "    pl = 1\n",
    "    pl_found = False\n",
    "    ph_found = False\n",
    "    carry = 0\n",
    "\n",
    "    # base cases\n",
    "    if (len(lst) == 0) or (lst[len(lst) - 1] < low_age):\n",
    "        print(\"0 patients match description\")\n",
    "        sys.exit(\"Base case was reached, program terminated\")\n",
    "    if lst[1] >= low_age:\n",
    "        pl_found = True\n",
    "        pl = 0\n",
    "    if lst[len(lst) - 1] <= high_age:\n",
    "        ph_found = True\n",
    "        ph = len(lst) - 1\n",
    "        while lst[ph-1] == lst[ph]: ph -= 1\n",
    "        if lst[ph] < high_age: carry = 1\n",
    "    if(pl_found and ph_found): return ph-pl+carry\n",
    "\n",
    "    # non-base case\n",
    "    # find upper limit\n",
    "    while not ph_found:\n",
    "        # increment/decrement higher pointer\n",
    "        if lst[ph] > high_age: ph = ph//2\n",
    "        elif lst[ph] < high_age:\n",
    "            # if value does not exist return index of lowest value higher than high_age\n",
    "            if ph >= len(lst) - 1: ph_found = True\n",
    "            elif lst[ph+1] > high_age: ph_found = True\n",
    "            else: ph += (len(lst)-ph)//2\n",
    "\n",
    "        # if value matched high_age return value\n",
    "        if lst[ph] == high_age:\n",
    "            ph_found = True\n",
    "\n",
    "    # find lower limit\n",
    "    while not pl_found :\n",
    "        # increment/decrement lower pointer\n",
    "        if lst[pl] > low_age:\n",
    "            # if value does not exist return index of highest value lower than low_age\n",
    "            if lst[pl-1] < low_age: pl_found = True\n",
    "            else: pl = pl//2\n",
    "        elif lst[pl] < low_age: pl += (ph - pl)//2\n",
    "\n",
    "        # if value matched low_age return value\n",
    "        if lst[pl] == low_age: pl_found = True\n",
    "\n",
    "    if pl_found and pl == 0: carry = 1\n",
    "    print(\"Total number of patients in age range\", pl, \"to\", ph, \"is\", ph-pl+carry)\n",
    "    range_df = sorted_df.iloc[pl-1:ph-1]\n",
    "    males_in_range = range_df[range_df['gender']=='male']\n",
    "    print(\"Total number of males in age range is\", males_in_range['gender'].count())\n",
    "\n",
    "# test function\n",
    "print(\"Testing using first 10 rows of dataframe df: \\n\")\n",
    "print(\"Dataset 1: \\n\", df.iloc[0:10].reset_index(drop=True))\n",
    "num_patients_males_in_age_range(df.iloc[1:11], 0, 10)\n",
    "\n",
    "print(\"Testing using last 10 rows of dataframe df: \\n\")\n",
    "print(\"Dataset 2: \\n\", df.iloc[-11:-1].reset_index(drop=True))\n",
    "num_patients_males_in_age_range(df.iloc[-11:-1], 30, 50)\n",
    "\n",
    "print(\"Testing range not in list: \\n\")\n",
    "print(\"Dataset 3: \\n\", df.iloc[-11:-1].reset_index(drop=True))\n",
    "num_patients_males_in_age_range(df.iloc[-11:-1], 80, 90)"
   ],
   "metadata": {
    "collapsed": false,
    "pycharm": {
     "name": "#%%\n"
    }
   }
  }
 ],
 "metadata": {
  "kernelspec": {
   "display_name": "Python 3",
   "language": "python",
   "name": "python3"
  },
  "language_info": {
   "codemirror_mode": {
    "name": "ipython",
    "version": 2
   },
   "file_extension": ".py",
   "mimetype": "text/x-python",
   "name": "python",
   "nbconvert_exporter": "python",
   "pygments_lexer": "ipython2",
   "version": "2.7.6"
  }
 },
 "nbformat": 4,
 "nbformat_minor": 0
}