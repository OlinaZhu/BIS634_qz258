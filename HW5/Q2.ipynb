{
 "cells": [
  {
   "cell_type": "code",
   "execution_count": 2,
   "metadata": {
    "collapsed": true
   },
   "outputs": [],
   "source": [
    "# import libraries\n",
    "import random\n",
    "import time as time\n",
    "import pandas as pd\n",
    "import seaborn as sns\n",
    "from matplotlib import pyplot as plt"
   ]
  },
  {
   "cell_type": "code",
   "execution_count": 3,
   "outputs": [],
   "source": [
    "# tree class\n",
    "class Tree:\n",
    "    def __init__(self, value):\n",
    "        self.value = value\n",
    "        self.left = None\n",
    "        self.right = None\n",
    "\n",
    "    # contains method as given in assignment manual\n",
    "    def __contains__(self, item):\n",
    "        if self.value == item:\n",
    "            return True\n",
    "        elif self.left and item < self.value:\n",
    "            return item in self.left\n",
    "        elif self.right and item > self.value:\n",
    "            return item in self.right\n",
    "        else:\n",
    "            return False\n",
    "\n",
    "    # add method\n",
    "    # add node into tree in correct space (in-order) if unique\n",
    "    # if number seen then do nothing\n",
    "    def add(self, num):\n",
    "        # if tree is empty\n",
    "        if not self.value: self.value = num\n",
    "\n",
    "        # if at leaf node:\n",
    "        elif self.left == None and self.right == None:\n",
    "            if self.value > num: self.left = Tree(num)\n",
    "            elif self.value < num: self.right = Tree(num)\n",
    "\n",
    "\n",
    "        # not at leaf node but could add\n",
    "        elif self.value > num and self.left == None: self.left = Tree(num)\n",
    "        elif self.value < num and self.right == None: self.right = Tree(num)\n",
    "\n",
    "        # keep recursing until available space\n",
    "        elif self.value > num: self.left.add(num)\n",
    "        elif self.value < num: self.right.add(num)\n",
    "\n",
    "        return self"
   ],
   "metadata": {
    "collapsed": false,
    "pycharm": {
     "name": "#%%\n"
    }
   }
  },
  {
   "cell_type": "code",
   "execution_count": 4,
   "outputs": [],
   "source": [
    "# print tree as list in-order\n",
    "def printTree(tree, list=[]):\n",
    "    if not tree: return []\n",
    "    list.append(tree.value)\n",
    "    if tree.left: printTree(tree.left, list)\n",
    "    if tree.right: printTree(tree.right, list)\n",
    "    return list"
   ],
   "metadata": {
    "collapsed": false,
    "pycharm": {
     "name": "#%%\n"
    }
   }
  },
  {
   "cell_type": "code",
   "execution_count": 5,
   "outputs": [
    {
     "name": "stdout",
     "output_type": "stream",
     "text": [
      "testing add function...\n",
      "initializing empty tree...\n",
      "Root node value is None\n",
      "adding 5 to empty tree...\n",
      "Output tree is [5]\n",
      "adding 4 to test tree...\n",
      "Output tree is [5, 4]\n",
      "adding 10 to test tree...\n",
      "Output tree is [5, 4, 10]\n",
      "adding 10 repeatedly to test tree, should not change tree...\n",
      "Output tree is [5, 4, 10]\n",
      "Testing contain with existing tree node (5)...\n",
      "True\n",
      "Testing contain with non-existent tree node (3)...\n",
      "False\n",
      "testing using given code in assignment manual... (Note Tree() is given a parameter of value None because Tree class code given in class was designed to have an input value)\n",
      "[55, 37, 14, 17, 49, 62, 71]\n"
     ]
    }
   ],
   "source": [
    "print(\"testing add function...\")\n",
    "print(\"initializing empty tree...\")\n",
    "test_tree = Tree(None)\n",
    "print(\"Root node value is\", test_tree.value)\n",
    "\n",
    "print(\"adding 5 to empty tree...\")\n",
    "test_tree.add(5)\n",
    "print(\"Output tree is\", printTree(test_tree, list=[]))\n",
    "\n",
    "print(\"adding 4 to test tree...\")\n",
    "test_tree.add(4)\n",
    "print(\"Output tree is\", printTree(test_tree, list=[]))\n",
    "\n",
    "print(\"adding 10 to test tree...\")\n",
    "test_tree.add(10)\n",
    "print(\"Output tree is\", printTree(test_tree, list=[]))\n",
    "\n",
    "print(\"adding 10 repeatedly to test tree, should not change tree...\")\n",
    "test_tree.add(10)\n",
    "print(\"Output tree is\", printTree(test_tree, list=[]))\n",
    "\n",
    "print(\"Testing contain with existing tree node (5)...\")\n",
    "print(5 in test_tree)\n",
    "\n",
    "print(\"Testing contain with non-existent tree node (3)...\")\n",
    "print(3 in test_tree)\n",
    "\n",
    "print(\"testing using given code in assignment manual... (Note Tree() is given a parameter of value None because Tree class code given in class was designed to have an input value)\")\n",
    "my_tree = Tree(None)\n",
    "for item in [55, 62, 37, 49, 71, 14, 17]:\n",
    "    my_tree.add(item)\n",
    "print(printTree(my_tree, list=[]))"
   ],
   "metadata": {
    "collapsed": false,
    "pycharm": {
     "name": "#%%\n"
    }
   }
  },
  {
   "cell_type": "code",
   "execution_count": 6,
   "outputs": [
    {
     "name": "stdout",
     "output_type": "stream",
     "text": [
      "{0: 0, 1: 997500, 10: 0, 50: 0, 100: 0, 500: 0, 1000: 1002300, 5000: 3986200, 6000: 5984600, 7000: 5982900, 8000: 6953100}\n",
      "{0: 0, 1: 0, 10: 0, 50: 0, 100: 0, 500: 999200, 1000: 997600, 5000: 7948300, 6000: 8977100, 7000: 10967600, 8000: 11967300}\n",
      "{0: 0, 1: 0, 10: 0, 50: 0, 100: 0, 500: 1018400, 1000: 998100, 5000: 4986600, 6000: 5987900, 7000: 7009400, 8000: 9006500}\n"
     ]
    }
   ],
   "source": [
    "# runtime analysis\n",
    "n_1 = 10\n",
    "n_2 = 100\n",
    "n_3 = 1000\n",
    "t_1 = Tree(None)\n",
    "t_2 = Tree(None)\n",
    "t_3 = Tree(None)\n",
    "\n",
    "# generate random numbers to populate each tree:\n",
    "def generate_trees(tree, lim):\n",
    "    for i in range(lim):\n",
    "        num = random.randint(1, 101)\n",
    "        tree.add(num)\n",
    "\n",
    "generate_trees(t_1, n_1)\n",
    "generate_trees(t_2, n_2)\n",
    "generate_trees(t_3, n_3)\n",
    "\n",
    "# storing runtime of random calls of contains to above trees\n",
    "def calc_runtime(tree, iter, lim):\n",
    "    start = time.time_ns()\n",
    "    for i in range(iter):\n",
    "        num = random.randint(1,lim)\n",
    "        ret = num in tree\n",
    "    now = time.time_ns()\n",
    "    return  now-start\n",
    "\n",
    "d_1 = {}\n",
    "d_2 = {}\n",
    "d_3 = {}\n",
    "for i in [0, 1, 10, 50, 100, 500, 1000, 5000, 6000, 7000, 8000]:\n",
    "    d_1[i] = calc_runtime(t_1, i, n_1*2)\n",
    "    d_2[i] = calc_runtime(t_2, i, n_2*2)\n",
    "    d_3[i] = calc_runtime(t_3, i, n_3*2)\n",
    "print(d_1)\n",
    "print(d_2)\n",
    "print(d_3)"
   ],
   "metadata": {
    "collapsed": false,
    "pycharm": {
     "name": "#%%\n"
    }
   }
  },
  {
   "cell_type": "code",
   "execution_count": 7,
   "outputs": [
    {
     "data": {
      "text/plain": "    calls to contains  runtime n=10  runtime n=100  runtime n=1000  linear  \\\n0                   0             0              0               0       0   \n1                   1        997500              0               0       1   \n2                  10             0              0               0      10   \n3                  50             0              0               0      50   \n4                 100             0              0               0     100   \n5                 500             0         999200         1018400     500   \n6                1000       1002300         997600          998100    1000   \n7                5000       3986200        7948300         4986600    5000   \n8                6000       5984600        8977100         5987900    6000   \n9                7000       5982900       10967600         7009400    7000   \n10               8000       6953100       11967300         9006500    8000   \n\n    exponential  \n0             0  \n1             1  \n2           100  \n3          2500  \n4         10000  \n5        250000  \n6       1000000  \n7      25000000  \n8      36000000  \n9      49000000  \n10     64000000  ",
      "text/html": "<div>\n<style scoped>\n    .dataframe tbody tr th:only-of-type {\n        vertical-align: middle;\n    }\n\n    .dataframe tbody tr th {\n        vertical-align: top;\n    }\n\n    .dataframe thead th {\n        text-align: right;\n    }\n</style>\n<table border=\"1\" class=\"dataframe\">\n  <thead>\n    <tr style=\"text-align: right;\">\n      <th></th>\n      <th>calls to contains</th>\n      <th>runtime n=10</th>\n      <th>runtime n=100</th>\n      <th>runtime n=1000</th>\n      <th>linear</th>\n      <th>exponential</th>\n    </tr>\n  </thead>\n  <tbody>\n    <tr>\n      <th>0</th>\n      <td>0</td>\n      <td>0</td>\n      <td>0</td>\n      <td>0</td>\n      <td>0</td>\n      <td>0</td>\n    </tr>\n    <tr>\n      <th>1</th>\n      <td>1</td>\n      <td>997500</td>\n      <td>0</td>\n      <td>0</td>\n      <td>1</td>\n      <td>1</td>\n    </tr>\n    <tr>\n      <th>2</th>\n      <td>10</td>\n      <td>0</td>\n      <td>0</td>\n      <td>0</td>\n      <td>10</td>\n      <td>100</td>\n    </tr>\n    <tr>\n      <th>3</th>\n      <td>50</td>\n      <td>0</td>\n      <td>0</td>\n      <td>0</td>\n      <td>50</td>\n      <td>2500</td>\n    </tr>\n    <tr>\n      <th>4</th>\n      <td>100</td>\n      <td>0</td>\n      <td>0</td>\n      <td>0</td>\n      <td>100</td>\n      <td>10000</td>\n    </tr>\n    <tr>\n      <th>5</th>\n      <td>500</td>\n      <td>0</td>\n      <td>999200</td>\n      <td>1018400</td>\n      <td>500</td>\n      <td>250000</td>\n    </tr>\n    <tr>\n      <th>6</th>\n      <td>1000</td>\n      <td>1002300</td>\n      <td>997600</td>\n      <td>998100</td>\n      <td>1000</td>\n      <td>1000000</td>\n    </tr>\n    <tr>\n      <th>7</th>\n      <td>5000</td>\n      <td>3986200</td>\n      <td>7948300</td>\n      <td>4986600</td>\n      <td>5000</td>\n      <td>25000000</td>\n    </tr>\n    <tr>\n      <th>8</th>\n      <td>6000</td>\n      <td>5984600</td>\n      <td>8977100</td>\n      <td>5987900</td>\n      <td>6000</td>\n      <td>36000000</td>\n    </tr>\n    <tr>\n      <th>9</th>\n      <td>7000</td>\n      <td>5982900</td>\n      <td>10967600</td>\n      <td>7009400</td>\n      <td>7000</td>\n      <td>49000000</td>\n    </tr>\n    <tr>\n      <th>10</th>\n      <td>8000</td>\n      <td>6953100</td>\n      <td>11967300</td>\n      <td>9006500</td>\n      <td>8000</td>\n      <td>64000000</td>\n    </tr>\n  </tbody>\n</table>\n</div>"
     },
     "execution_count": 7,
     "metadata": {},
     "output_type": "execute_result"
    }
   ],
   "source": [
    "# turning time tables into dataframes for later plotting\n",
    "df_1 = pd.DataFrame.from_dict(d_1, orient=\"index\").reset_index()\n",
    "df_1.columns=['calls to contains', 'runtime (seconds)']\n",
    "\n",
    "df_2 = pd.DataFrame.from_dict(d_2, orient=\"index\").reset_index()\n",
    "df_2.columns=['calls to contains', 'runtime (seconds)']\n",
    "\n",
    "df_3 = pd.DataFrame.from_dict(d_3, orient=\"index\").reset_index()\n",
    "df_3.columns=['calls to contains', 'runtime (seconds)']\n",
    "\n",
    "# merge data frames\n",
    "run_df = df_1.merge(df_2, how='outer', on='calls to contains')\n",
    "run_df.columns=['calls to contains', 'runtime n=10', 'runtime n=100']\n",
    "run_df = run_df.merge(df_3, how='outer', on='calls to contains')\n",
    "run_df.columns=['calls to contains', 'runtime n=10', 'runtime n=100', 'runtime n=1000']\n",
    "\n",
    "# add linear and exponential columns\n",
    "linear = [0, 1, 10, 50, 100, 500, 1000, 5000,6000, 7000, 8000]\n",
    "exponential = [0, 1, 100, 2500, 10000, 250000, 1000000, 25000000, 6000**2, 7000**2, 8000**2]\n",
    "run_df['linear'] = linear\n",
    "run_df['exponential'] = exponential\n",
    "run_df.head(15)"
   ],
   "metadata": {
    "collapsed": false,
    "pycharm": {
     "name": "#%%\n"
    }
   }
  },
  {
   "cell_type": "code",
   "execution_count": 8,
   "outputs": [
    {
     "data": {
      "text/plain": "[None, None]"
     },
     "execution_count": 8,
     "metadata": {},
     "output_type": "execute_result"
    },
    {
     "data": {
      "text/plain": "<Figure size 432x288 with 1 Axes>",
      "image/png": "[encoded data removed]"
     },
     "metadata": {
      "needs_background": "light"
     },
     "output_type": "display_data"
    }
   ],
   "source": [
    "# plot runtime graph for t_1 with varying number of calls from 1-1000\n",
    "# plt = sns.lineplot(data = pd.melt(run_df, ['calls to contains']), x = 'calls to contains', y = 'value', hue='variable')\n",
    "plt = sns.lineplot(x = 'calls to contains', y = 'value', hue='variable', data = pd.melt(run_df, ['calls to contains']))\n",
    "plt.set(xscale=\"log\", yscale=\"log\")"
   ],
   "metadata": {
    "collapsed": false,
    "pycharm": {
     "name": "#%%\n"
    }
   }
  },
  {
   "cell_type": "code",
   "execution_count": 15,
   "outputs": [
    {
     "data": {
      "text/plain": "[None, None]"
     },
     "execution_count": 15,
     "metadata": {},
     "output_type": "execute_result"
    },
    {
     "data": {
      "text/plain": "<Figure size 432x288 with 1 Axes>",
      "image/png": "[encoded data removed]"
     },
     "metadata": {
      "needs_background": "light"
     },
     "output_type": "display_data"
    }
   ],
   "source": [
    "# analyze setup-time of different-sized trees\n",
    "\n",
    "def calc_setup_runtime(size):\n",
    "    start = time.time_ns()\n",
    "    tree = Tree(0)\n",
    "    generate_trees(tree, size)\n",
    "    now = time.time_ns()\n",
    "    return  now-start\n",
    "\n",
    "d_setup = {}\n",
    "for i in [0, 1, 10, 50, 100, 500, 1000, 5000,6000, 7000, 8000]:\n",
    "    d_setup[i] = calc_setup_runtime(i)\n",
    "\n",
    "df_setup = pd.DataFrame.from_dict(d_setup, orient='index').reset_index()\n",
    "df_setup['linear'] = linear\n",
    "df_setup['exponential'] = exponential\n",
    "df_setup.columns = ['size of tree', 'setup_time (seconds)', 'linear', 'exponential']\n",
    "df_setup.head(15)\n",
    "\n",
    "# plot\n",
    "plt = sns.lineplot(x = 'size of tree', y = 'value', hue='variable', data = pd.melt(df_setup, ['size of tree']))\n",
    "plt.set(xscale=\"log\", yscale=\"log\")"
   ],
   "metadata": {
    "collapsed": false,
    "pycharm": {
     "name": "#%%\n"
    }
   }
  }
 ],
 "metadata": {
  "kernelspec": {
   "display_name": "Python 3",
   "language": "python",
   "name": "python3"
  },
  "language_info": {
   "codemirror_mode": {
    "name": "ipython",
    "version": 2
   },
   "file_extension": ".py",
   "mimetype": "text/x-python",
   "name": "python",
   "nbconvert_exporter": "python",
   "pygments_lexer": "ipython2",
   "version": "2.7.6"
  }
 },
 "nbformat": 4,
 "nbformat_minor": 0
}