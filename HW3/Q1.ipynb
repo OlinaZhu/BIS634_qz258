{
 "cells": [
  {
   "cell_type": "code",
   "execution_count": 1,
   "metadata": {
    "collapsed": true,
    "pycharm": {
     "name": "#%%\n"
    }
   },
   "outputs": [],
   "source": [
    "# import libraries\n",
    "import pandas as pd\n",
    "import requests\n",
    "import xml.dom.minidom as m\n",
    "import xml.etree.ElementTree as et\n",
    "import time as time"
   ]
  },
  {
   "cell_type": "code",
   "execution_count": 6,
   "outputs": [],
   "source": [
    "# retrieve individual article data from PubMed\n",
    "# used as helper method in later functions\n",
    "# modifying code given in assignment document\n",
    "# def get_info(url):\n",
    "#     r = requests.get(f\"{url}\")\n",
    "#     doc = m.parseString(r.text)\n",
    "#     titles = doc.getElementsByTagName(\"Title\")\n",
    "#     abstracts = doc.getElementsByTagName(\"AbstractText\")\n",
    "#     title = titles[0].childNodes[0].wholeText\n",
    "#     abstract = abstracts[0].childNodes[0].wholeText\n",
    "#     return title, abstract"
   ],
   "metadata": {
    "collapsed": false,
    "pycharm": {
     "name": "#%%\n"
    }
   }
  },
  {
   "cell_type": "code",
   "execution_count": 5,
   "outputs": [
    {
     "name": "stdout",
     "output_type": "stream",
     "text": [
      "There are 1000 ids extracted\n"
     ]
    }
   ],
   "source": [
    "# get id list on Alzheimer search\n",
    "# url for Alzheimer search: https://eutils.ncbi.nlm.nih.gov/entrez/eutils/esearch.fcgi?db=pubmed&term=+AND+2019[pdat]&retmax=1000&retmode=xml\n",
    "al_xtree = et.parse(\"alzheimer_esearch.xml\")\n",
    "al_xroot = al_xtree.getroot()\n",
    "\n",
    "ids = []\n",
    "\n",
    "# retrieve 1000 article ids dated 2019 regarding Alzheimers on PubMed\n",
    "for node in al_xroot[3]:\n",
    "    ids.append(str(node.attrib.get(\"Id\")))\n",
    "\n",
    "print(\"There are\", len(ids), \"ids extracted\")"
   ],
   "metadata": {
    "collapsed": false,
    "pycharm": {
     "name": "#%% n\n"
    }
   }
  },
  {
   "cell_type": "code",
   "execution_count": null,
   "outputs": [],
   "source": [
    "# getting articles identified by ids through POST\n",
    "r = requests.post(\"https://eutils.ncbi.nlm.nih.gov/entrez/eutils/esearch.fcgi?db=pubmed&term=Alzheimers+AND+2019[pdat]&retmax=1000&retmode=xml\")"
   ],
   "metadata": {
    "collapsed": false,
    "pycharm": {
     "name": "#%%\n"
    }
   }
  },
  {
   "cell_type": "code",
   "execution_count": null,
   "outputs": [],
   "source": [
    "# general url for locating each paper using pmid: url = \"https://eutils.ncbi.nlm.nih.gov/entrez/eutils/esearch.fcgi?db=pubmed&id=\"+id+\"&retmode=xml\"\n",
    "\n",
    "col_name = [\"title\", \"abstract\", \"query\", \"mesh\"]\n"
   ],
   "metadata": {
    "collapsed": false,
    "pycharm": {
     "name": "#%%\n"
    }
   }
  }
 ],
 "metadata": {
  "kernelspec": {
   "display_name": "Python 3",
   "language": "python",
   "name": "python3"
  },
  "language_info": {
   "codemirror_mode": {
    "name": "ipython",
    "version": 2
   },
   "file_extension": ".py",
   "mimetype": "text/x-python",
   "name": "python",
   "nbconvert_exporter": "python",
   "pygments_lexer": "ipython2",
   "version": "2.7.6"
  }
 },
 "nbformat": 4,
 "nbformat_minor": 0
}