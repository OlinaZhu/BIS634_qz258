{
  "nbformat": 4,
  "nbformat_minor": 0,
  "metadata": {
    "colab": {
      "name": "BIS634 HW4 Q4.ipynb",
      "provenance": [],
      "collapsed_sections": []
    },
    "kernelspec": {
      "name": "python3",
      "display_name": "Python 3"
    },
    "language_info": {
      "name": "python"
    }
  },
  "cells": [
    {
      "cell_type": "code",
      "metadata": {
        "id": "_e4kseJI3LOM"
      },
      "source": [
        "# import libraries\n",
        "import matplotlib.pyplot as plt\n",
        "import numpy as np"
      ],
      "execution_count": null,
      "outputs": []
    },
    {
      "cell_type": "code",
      "metadata": {
        "id": "jVXlQ0zB3Dt7"
      },
      "source": [
        "# modifying code given in class\n",
        "def smith_waterman(seq1, seq2, match, gap_penalty, mismatch_penalty):\n",
        "    # initialize grid\n",
        "    data = np.zeros((len(seq1), len(seq2)))\n",
        "    # store max length and coordinates\n",
        "    max_len = 0\n",
        "    max_i = 0\n",
        "    max_j = 0\n",
        "    # enumerate over sequences\n",
        "    for i, base1 in enumerate(seq1): \n",
        "        for j, base2 in enumerate(seq2):\n",
        "            # if the two chars are identical\n",
        "            if base1 == base2:\n",
        "                # if square is already filled in due to gaps in previous enumerations\n",
        "                # keep the larger number\n",
        "                # this also takes care of the horizontal gap scenario\n",
        "                # because every char in seq1 are compared with all chars in seq2 sequentially\n",
        "                # and max match length is taken\n",
        "                # data[i, j] = current square value\n",
        "                # data[i-1, j-1] + match = value diagonally before\n",
        "                # data[i-1, j-2] + match - gap_penalty= value with horizontal gap (down 1, right 2)\n",
        "                if i > 0 and j > 1:\n",
        "                    data[i,j] = max(data[i,j], data[i-1,j-1] + match, data[i-1, j-2]+match-gap_penalty)\n",
        "                elif i > 0 and j > 0:\n",
        "                    data[i,j] = max(data[i,j], data[i-1,j-1] + match)\n",
        "                else: \n",
        "                    data[i,j] = match \n",
        "            # if there is a gap vertically\n",
        "            elif i < len(seq1)-1:\n",
        "                if seq1[i+1] == base2:\n",
        "                    if i > 0 and j > 0:\n",
        "                        # take maximum between its current value and (match-gap_penalty + (value at up 2, left 1))\n",
        "                        data[i+1,j] = max(data[i+1,j], data[i-1,j-1]+match-gap_penalty)\n",
        "                    else:\n",
        "                        data[i+1,j] += match-gap_penalty \n",
        "            # if mismatch \n",
        "            else: data[i,j] = max(0, data[i,j] - mismatch_penalty) \n",
        "            \n",
        "            # update longest sequence\n",
        "            if data[i,j] > max_len:\n",
        "                max_len = data[i,j]\n",
        "                max_i = i\n",
        "                max_j = j \n",
        "    \n",
        "    # printing longest matching sequence \n",
        "    ret_1 = \"\"\n",
        "    ret_2 = \"\" \n",
        "    for i in range(int(max_len)): \n",
        "      # match\n",
        "      if seq1[max_i] == seq2[max_j]: \n",
        "        ret_1 += seq1[max_i]\n",
        "        ret_2 += seq2[max_j]\n",
        "      # horitzontal gap \n",
        "      elif seq1[max_i] == seq2[max_j-1]:\n",
        "        ret_1 += \"-\" + seq1[max_i]\n",
        "        ret_2 += seq2[max_j] + seq2[max_j-1] \n",
        "        max_j -= 1\n",
        "      # vertical gap \n",
        "      elif seq1[max_i-1] == seq2[max_j]:\n",
        "        ret_1 += seq1[max_i] + seq1[max_i-1]\n",
        "        ret_2 += \"-\" + seq2[max_j] \n",
        "        max_i -= 1\n",
        "      max_i -= 1\n",
        "      max_j -= 1 \n",
        "    \n",
        "    # output \n",
        "    print(\"Longest matching score:\", max_len) \n",
        "    # reverse strings and print \n",
        "    print(\"Matching sequences: \\n s1 =\", ret_1[::-1], \"\\n s2 =\", ret_2[::-1])\n",
        "\n",
        "    # plot graph\n",
        "    plt.xticks(range(len(seq2)), labels=seq2)\n",
        "    plt.yticks(range(len(seq1)), labels=seq1)\n",
        "    plt.imshow(data, interpolation='nearest',\n",
        "               cmap='binary')\n",
        "    plt.gca().xaxis.tick_top()"
      ],
      "execution_count": 150,
      "outputs": []
    },
    {
      "cell_type": "code",
      "metadata": {
        "colab": {
          "base_uri": "https://localhost:8080/",
          "height": 350
        },
        "id": "qnvnvQLF3IuA",
        "outputId": "686a9a92-da8f-46af-cb69-65819731d5cc"
      },
      "source": [
        "# test function\n",
        "print(\"match = gap_penalty = mismatch_pentalty = 1:\")\n",
        "smith_waterman('ACTAGACCTAGCATCGAC', 'TGCATCGAGACCCTACGTGAC', 1, 1, 1)\n",
        "plt.show()\n"
      ],
      "execution_count": 151,
      "outputs": [
        {
          "output_type": "stream",
          "name": "stdout",
          "text": [
            "match = gap_penalty = mismatch_pentalty = 1:\n",
            "Longest matching score: 7.0\n",
            "Matching sequences: \n",
            " s1 = GCATCGA \n",
            " s2 = GCATCGA\n"
          ]
        },
        {
          "output_type": "display_data",
          "data": {
            "image/png": "[encoded data removed]",
            "text/plain": [
              "<Figure size 432x288 with 1 Axes>"
            ]
          },
          "metadata": {
            "needs_background": "light"
          }
        }
      ]
    },
    {
      "cell_type": "code",
      "metadata": {
        "id": "WeMSJVBK3Yek",
        "colab": {
          "base_uri": "https://localhost:8080/",
          "height": 350
        },
        "outputId": "33fe4376-a6d8-4d7c-dcda-1111b92bc5b5"
      },
      "source": [
        "# test function\n",
        "print(\"match = 1, gap_penalty = 0.5, mismatch_pentalty = 1:\")\n",
        "smith_waterman('ACTAGACCTAGCATCGAC', 'TGCATCGAGACCCTACGTGAC', 1, 0.5, 1)\n",
        "plt.show()"
      ],
      "execution_count": 152,
      "outputs": [
        {
          "output_type": "stream",
          "name": "stdout",
          "text": [
            "match = 1, gap_penalty = 0.5, mismatch_pentalty = 1:\n",
            "Longest matching score: 7.5\n",
            "Matching sequences: \n",
            " s1 = GCATCGA \n",
            " s2 = GCATCGA\n"
          ]
        },
        {
          "output_type": "display_data",
          "data": {
            "image/png": "[encoded data removed]",
            "text/plain": [
              "<Figure size 432x288 with 1 Axes>"
            ]
          },
          "metadata": {
            "needs_background": "light"
          }
        }
      ]
    },
    {
      "cell_type": "code",
      "metadata": {
        "colab": {
          "base_uri": "https://localhost:8080/",
          "height": 350
        },
        "id": "gQvf_uyWNo4y",
        "outputId": "acdf57f2-85ce-4bf0-99a0-2ed7e86457a1"
      },
      "source": [
        "# test function\n",
        "print(\"match = 1, gap_penalty = 0, mismatch_pentalty = 1\")\n",
        "smith_waterman('ACTAGACCTAGCATCGAC', 'TGCATCGAGACCCTACGTGAC', 1, 0, 1)\n",
        "plt.show()"
      ],
      "execution_count": 153,
      "outputs": [
        {
          "output_type": "stream",
          "name": "stdout",
          "text": [
            "match = 1, gap_penalty = 0, mismatch_pentalty = 1\n",
            "Longest matching score: 8.0\n",
            "Matching sequences: \n",
            " s1 = AGA-CCTA-G \n",
            " s2 = AGACCCTACG\n"
          ]
        },
        {
          "output_type": "display_data",
          "data": {
            "image/png": "[encoded data removed]",
            "text/plain": [
              "<Figure size 432x288 with 1 Axes>"
            ]
          },
          "metadata": {
            "needs_background": "light"
          }
        }
      ]
    },
    {
      "cell_type": "code",
      "metadata": {
        "id": "7oiRvSzviEVj"
      },
      "source": [
        ""
      ],
      "execution_count": null,
      "outputs": []
    }
  ]
}