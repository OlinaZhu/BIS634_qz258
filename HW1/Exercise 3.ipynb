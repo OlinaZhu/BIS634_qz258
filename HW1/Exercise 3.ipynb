{
 "cells": [
  {
   "cell_type": "code",
   "execution_count": 203,
   "metadata": {
    "collapsed": true
   },
   "outputs": [
    {
     "data": {
      "text/plain": "         date       state  fips  cases  deaths\n0  2020-01-21  Washington    53      1       0\n1  2020-01-22  Washington    53      1       0\n2  2020-01-23  Washington    53      1       0\n3  2020-01-24    Illinois    17      1       0\n4  2020-01-24  Washington    53      1       0",
      "text/html": "<div>\n<style scoped>\n    .dataframe tbody tr th:only-of-type {\n        vertical-align: middle;\n    }\n\n    .dataframe tbody tr th {\n        vertical-align: top;\n    }\n\n    .dataframe thead th {\n        text-align: right;\n    }\n</style>\n<table border=\"1\" class=\"dataframe\">\n  <thead>\n    <tr style=\"text-align: right;\">\n      <th></th>\n      <th>date</th>\n      <th>state</th>\n      <th>fips</th>\n      <th>cases</th>\n      <th>deaths</th>\n    </tr>\n  </thead>\n  <tbody>\n    <tr>\n      <th>0</th>\n      <td>2020-01-21</td>\n      <td>Washington</td>\n      <td>53</td>\n      <td>1</td>\n      <td>0</td>\n    </tr>\n    <tr>\n      <th>1</th>\n      <td>2020-01-22</td>\n      <td>Washington</td>\n      <td>53</td>\n      <td>1</td>\n      <td>0</td>\n    </tr>\n    <tr>\n      <th>2</th>\n      <td>2020-01-23</td>\n      <td>Washington</td>\n      <td>53</td>\n      <td>1</td>\n      <td>0</td>\n    </tr>\n    <tr>\n      <th>3</th>\n      <td>2020-01-24</td>\n      <td>Illinois</td>\n      <td>17</td>\n      <td>1</td>\n      <td>0</td>\n    </tr>\n    <tr>\n      <th>4</th>\n      <td>2020-01-24</td>\n      <td>Washington</td>\n      <td>53</td>\n      <td>1</td>\n      <td>0</td>\n    </tr>\n  </tbody>\n</table>\n</div>"
     },
     "execution_count": 203,
     "metadata": {},
     "output_type": "execute_result"
    }
   ],
   "source": [
    "# importing libraries and data\n",
    "\n",
    "import matplotlib\n",
    "import pandas as pd\n",
    "import seaborn as sns\n",
    "from datetime import date\n",
    "\n",
    "data = pd.read_csv(\"us-states.csv\")\n",
    "data.head()"
   ]
  },
  {
   "cell_type": "code",
   "execution_count": 198,
   "outputs": [
    {
     "name": "stderr",
     "output_type": "stream",
     "text": [
      "C:\\Users\\olina\\AppData\\Local\\Temp/ipykernel_8016/321109035.py:6: UserWarning: FixedFormatter should only be used together with FixedLocator\n",
      "  state_case.set_xticklabels(state_case.get_xticklabels(), rotation = 80, ha = \"right\")\n"
     ]
    },
    {
     "data": {
      "text/plain": "<Figure size 432x288 with 1 Axes>",
      "image/png": "[encoded data removed]"
     },
     "metadata": {
      "needs_background": "light"
     },
     "output_type": "display_data"
    }
   ],
   "source": [
    "# takes a list of state names and plots their cumulative cases vs state by date\n",
    "def plot_state_to_cases(state_names):\n",
    "    # simplify dataset\n",
    "    df = data.drop(['fips','deaths'], axis=1)\n",
    "\n",
    "    # include only states given in parameter\n",
    "    df = df[df['state'].isin(state_names)]\n",
    "\n",
    "    # plot data into line graph with different states being different colors\n",
    "    state_case = sns.lineplot(data=df, x='date', y='cases', hue='state')\n",
    "\n",
    "    # rotate x axis tick labels to obtain better visualization\n",
    "    state_case.set_xticklabels(state_case.get_xticklabels(), rotation = 80, ha = \"right\")\n",
    "\n",
    "#testing function\n",
    "plot_state_to_cases(['Alabama', 'Alaska', 'Washington', 'North Carolina'])"
   ],
   "metadata": {
    "collapsed": false,
    "pycharm": {
     "name": "#%%\n"
    }
   }
  },
  {
   "cell_type": "code",
   "execution_count": 208,
   "outputs": [
    {
     "name": "stdout",
     "output_type": "stream",
     "text": [
      "2021-09-05\n",
      "2021-09-03\n",
      "2021-09-05\n",
      "2021-09-03\n",
      "2021-09-05\n"
     ]
    }
   ],
   "source": [
    "#  takes the name of a state and returns the date of its highest number of new cases\n",
    "def highest_case_date(state):\n",
    "    df = data[data[\"state\"] == state]\n",
    "    state_cases = df['cases']\n",
    "\n",
    "    #find max number of cases\n",
    "    case_number = state_cases.max()\n",
    "\n",
    "    # obtain date of max case number\n",
    "    date = df[df['cases'] == case_number]['date']\n",
    "\n",
    "    # return only one date if multiple days have the highest number of cases\n",
    "    return date.iloc[0]\n",
    "\n",
    "# testing function\n",
    "print(highest_case_date('Alabama'))\n",
    "print(highest_case_date('Alaska'))\n",
    "print(highest_case_date('Arizona'))"
   ],
   "metadata": {
    "collapsed": false,
    "pycharm": {
     "name": "#%%\n"
    }
   }
  },
  {
   "cell_type": "code",
   "execution_count": 213,
   "outputs": [
    {
     "name": "stdout",
     "output_type": "stream",
     "text": [
      "Connecticut had its highest number of cases 2 days before Colorado\n",
      "Both Alabama and Colorado had their highest number of cases on 2021-09-05\n",
      "North Carolina had its highest number of cases 1 days before Alabama\n"
     ]
    }
   ],
   "source": [
    "# takes the names of two states and reports which one had its highest number of cases first\n",
    "# and how many days separate that one's peak from the other one's peak\n",
    "def state_comparison(state_1, state_2):\n",
    "    # obtaining list containing year, month, day of date\n",
    "    state_1_date = highest_case_date(state_1).split(\"-\")\n",
    "    state_2_date = highest_case_date(state_2).split(\"-\")\n",
    "\n",
    "    # converting date to datetime.date format\n",
    "    date_1 = date(int(state_1_date[0]), int(state_1_date[1]), int(state_1_date[2]))\n",
    "    date_2 = date(int(state_2_date[0]), int(state_2_date[1]), int(state_2_date[2]))\n",
    "    #compare dates\n",
    "    if(date_1 < date_2):\n",
    "        difference = date_2 - date_1\n",
    "        print(state_1 + ' had its highest number of cases', difference.days, 'days before ' + state_2)\n",
    "    elif(date_1 > date_2):\n",
    "        difference = date_1 - date_2\n",
    "        print(state_2 + ' had its highest number of cases', difference.days, 'days before ' + state_1)\n",
    "    else:\n",
    "        print('Both', state_1, 'and', state_2, 'had their highest number of cases on', date_1)\n",
    "\n",
    "# testing function\n",
    "state_comparison('Connecticut', 'Colorado')\n",
    "state_comparison('Alabama', 'Colorado')\n",
    "state_comparison('Alabama', 'North Carolina') "
   ],
   "metadata": {
    "collapsed": false,
    "pycharm": {
     "name": "#%%\n"
    }
   }
  }
 ],
 "metadata": {
  "kernelspec": {
   "display_name": "Python 3",
   "language": "python",
   "name": "python3"
  },
  "language_info": {
   "codemirror_mode": {
    "name": "ipython",
    "version": 2
   },
   "file_extension": ".py",
   "mimetype": "text/x-python",
   "name": "python",
   "nbconvert_exporter": "python",
   "pygments_lexer": "ipython2",
   "version": "2.7.6"
  }
 },
 "nbformat": 4,
 "nbformat_minor": 0
}