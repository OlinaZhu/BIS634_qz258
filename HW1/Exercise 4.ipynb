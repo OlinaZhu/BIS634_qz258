{
 "cells": [
  {
   "cell_type": "code",
   "execution_count": 1,
   "metadata": {
    "collapsed": true
   },
   "outputs": [],
   "source": [
    "# importing libraries\n",
    "import pandas as pd\n",
    "import plotnine as p9\n",
    "import random as random\n",
    "\n",
    "# setting seed for random\n",
    "random.seed(634)"
   ]
  },
  {
   "cell_type": "code",
   "execution_count": 12,
   "outputs": [
    {
     "name": "stdout",
     "output_type": "stream",
     "text": [
      "[False, False, False, True, True, False, False, False, False, False]\n",
      "[False, True, False, False, True, False, False, False, False, False]\n",
      "[True, True, False, False, False, False, False, False, False, False]\n"
     ]
    }
   ],
   "source": [
    "# 4a\n",
    "# takes a population size n and a number of drug users d and returns a list of size n with d True values and n - d False values\n",
    "# the Trues represent drug users, the Falses represent non-drug users\n",
    "def true_false_values (population_size, drug_users):\n",
    "    # initiate empty return list and count of recorded drug users\n",
    "    ret = []\n",
    "    count = 0\n",
    "\n",
    "    # for every individual in population determine whether is drug user\n",
    "    for i in range (0, population_size):\n",
    "        # if 0 then true, if 1 then false\n",
    "        status = random.sample([0,1], 1)[0]\n",
    "\n",
    "        # if true and the number of drug users has not exceeded limit\n",
    "        if((status == 0) and (count < drug_users)):\n",
    "            ret.append(True)\n",
    "            count += 1\n",
    "\n",
    "        # if false\n",
    "        else:\n",
    "            ret.append(False)\n",
    "    return ret\n",
    "\n",
    "# testing function\n",
    "print(true_false_values(10,2))\n",
    "print(true_false_values(10,2))\n",
    "print(true_false_values(10,2))"
   ],
   "metadata": {
    "collapsed": false,
    "pycharm": {
     "name": "#%%\n"
    }
   }
  },
  {
   "cell_type": "code",
   "execution_count": 3,
   "outputs": [
    {
     "data": {
      "text/plain": "[False,\n True,\n True,\n False,\n True,\n True,\n False,\n False,\n False,\n False,\n False,\n False,\n False,\n False,\n False,\n True,\n False,\n False,\n False,\n False,\n False,\n True,\n False,\n True,\n False,\n False,\n False,\n False,\n False,\n False,\n False,\n False,\n False,\n False,\n False,\n False,\n False,\n True,\n False,\n False,\n False,\n True,\n False,\n True,\n False,\n False,\n False,\n False,\n False,\n False]"
     },
     "execution_count": 3,
     "metadata": {},
     "output_type": "execute_result"
    }
   ],
   "source": [
    "# 4b\n",
    "# selects a sample from a population and returns that sample's responses\n",
    "# for each study participant, they flip a coin (heads = 0, tails = 1)\n",
    "# if heads\" (0), they flip a coin and either report True or False\n",
    "# if \"tails\" (1), they report their drug use status (True or False)\n",
    "def sample_select(population, sample_size):\n",
    "    # taking a random sample of size sample_size from population\n",
    "    sample = random.sample(population, sample_size)\n",
    "\n",
    "    # initiate response list\n",
    "    ret = []\n",
    "\n",
    "    # for each individual participant in the sample taken,\n",
    "    # perform 1 or 2 coin flips depending on first coin flip result\n",
    "    for person in sample:\n",
    "        # first coin flip\n",
    "        first_flip = random.sample([0,1], 1)[0]\n",
    "\n",
    "        # if heads\n",
    "        if(first_flip == 0):\n",
    "            #flip again\n",
    "            second_flip = random.sample([0,1], 1)[0]\n",
    "            if(second_flip == 0):\n",
    "                ret.append(True)\n",
    "            else:\n",
    "                ret.append(False)\n",
    "\n",
    "        # if tails\n",
    "        else:\n",
    "            ret.append(person)\n",
    "    return ret\n",
    "\n",
    "# testing function\n",
    "sample_select(true_false_values(100,10), 50)"
   ],
   "metadata": {
    "collapsed": false,
    "pycharm": {
     "name": "#%%\n"
    }
   }
  },
  {
   "cell_type": "code",
   "execution_count": 26,
   "outputs": [
    {
     "name": "stdout",
     "output_type": "stream",
     "text": [
      "Observed E(yes) in population of 1000 is 308\n",
      "Calculated E(yes) in population of 1000 is 300\n"
     ]
    }
   ],
   "source": [
    "# 4c\n",
    "# takes parameters for the total population, the true number of drug users in the population, the sample size\n",
    "# returns the predicted number of drug users in the population\n",
    "# returned number is int because people cannot exist in fractions\n",
    "def predicted_drug_users(population_size, drug_users, sample_size):\n",
    "    # initialize dataset\n",
    "    data = true_false_values(population_size, drug_users)\n",
    "\n",
    "    # obtain responses\n",
    "    responses = sample_select(data, sample_size)\n",
    "\n",
    "    # calculate p based on True-rate in responses\n",
    "    p = max(0, 2*(responses.count(True)/len(responses) - 0.25))\n",
    "\n",
    "    # return whole number of predicted drug users in the population\n",
    "    return int(0.25*population_size + 0.5*p*population_size)\n",
    "\n",
    "# testing function\n",
    "print(\"Observed E(yes) in population of 1000 is\", predicted_drug_users(1000, 100, 500))\n",
    "print(\"Calculated E(yes) in population of 1000 is\", int((0.25+0.5*(100/1000))*1000))"
   ],
   "metadata": {
    "collapsed": false,
    "pycharm": {
     "name": "#%%\n"
    }
   }
  },
  {
   "cell_type": "code",
   "execution_count": 27,
   "outputs": [
    {
     "name": "stdout",
     "output_type": "stream",
     "text": [
      "The estimated number of drug users in a population 1000, 100 of whom are drug users, and sample size is 50, the estimated number of drug users using 4(c) is 284\n"
     ]
    }
   ],
   "source": [
    "# 4d\n",
    "print(\"The estimated number of drug users in a population 1000, 100 of whom are drug users, and sample size is 50, the estimated number of drug users using 4(c) is\", predicted_drug_users(1000, 100, 500))"
   ],
   "metadata": {
    "collapsed": false,
    "pycharm": {
     "name": "#%%\n"
    }
   }
  },
  {
   "cell_type": "code",
   "execution_count": 30,
   "outputs": [
    {
     "data": {
      "text/plain": "<Figure size 640x480 with 1 Axes>",
      "image/png": "[encoded data removed]"
     },
     "metadata": {},
     "output_type": "display_data"
    },
    {
     "name": "stdout",
     "output_type": "stream",
     "text": [
      "\n"
     ]
    }
   ],
   "source": [
    "# 4e\n",
    "# obtain 1000 trial data of simulation in dataframe format\n",
    "def obtain_mapping(n, pop, users, sample):\n",
    "    d = {}\n",
    "    for i in range(0, n):\n",
    "        val = predicted_drug_users(pop, users, sample)\n",
    "        if(val in d):\n",
    "            d[val] += 1\n",
    "        else:\n",
    "            d[val] = 1\n",
    "    return d\n",
    "\n",
    "# print histogram\n",
    "def graph_predicted_users(trials, pop, users, sample):\n",
    "    mapping = obtain_mapping(trials, pop, users, sample)\n",
    "    predicted_users = pd.DataFrame(\n",
    "        {\n",
    "            \"Predicted\" : mapping.keys(),\n",
    "            \"Count\" : mapping.values()\n",
    "        }\n",
    "    )\n",
    "    print(\n",
    "        p9.ggplot(predicted_users, p9.aes(x = \"Predicted\", y = \"Count\"))\n",
    "        + p9.geom_bar(stat = \"identity\")\n",
    "    )\n",
    "# testing function\n",
    "graph_predicted_users(10000, 1000, 100, 50)"
   ],
   "metadata": {
    "collapsed": false,
    "pycharm": {
     "name": "#%%\n"
    }
   }
  },
  {
   "cell_type": "code",
   "execution_count": 31,
   "outputs": [
    {
     "name": "stdout",
     "output_type": "stream",
     "text": [
      "The estimated number of drug users in a population 100000, 10000 of whom are drug users, and sample size is 5000, the estimated number of drug users using 4(c) is 29140\n"
     ]
    },
    {
     "data": {
      "text/plain": "<Figure size 640x480 with 1 Axes>",
      "image/png": "[encoded data removed]"
     },
     "metadata": {},
     "output_type": "display_data"
    },
    {
     "name": "stdout",
     "output_type": "stream",
     "text": [
      "\n"
     ]
    }
   ],
   "source": [
    "# 4f\n",
    "# repeat p,.arts d and e but with everything scaled up by a factor of 100\n",
    "graph_predicted_users(5000, 100000, 10000, 5000)"
   ],
   "metadata": {
    "collapsed": false,
    "pycharm": {
     "name": "#%%\n"
    }
   }
  },
  {
   "cell_type": "code",
   "execution_count": 36,
   "outputs": [
    {
     "data": {
      "text/plain": "<Figure size 640x480 with 1 Axes>",
      "image/png": "[encoded data removed]"
     },
     "metadata": {},
     "output_type": "display_data"
    },
    {
     "name": "stdout",
     "output_type": "stream",
     "text": [
      "\n"
     ]
    }
   ],
   "source": [
    "# 4g\n",
    "# repeat parts d and e but with the smaller population but with higher drug usage rates\n",
    "graph_predicted_users(20000, 1000, 500, 50)"
   ],
   "metadata": {
    "collapsed": false,
    "pycharm": {
     "name": "#%%\n"
    }
   }
  }
 ],
 "metadata": {
  "kernelspec": {
   "display_name": "Python 3",
   "language": "python",
   "name": "python3"
  },
  "language_info": {
   "codemirror_mode": {
    "name": "ipython",
    "version": 2
   },
   "file_extension": ".py",
   "mimetype": "text/x-python",
   "name": "python",
   "nbconvert_exporter": "python",
   "pygments_lexer": "ipython2",
   "version": "2.7.6"
  }
 },
 "nbformat": 4,
 "nbformat_minor": 0
}