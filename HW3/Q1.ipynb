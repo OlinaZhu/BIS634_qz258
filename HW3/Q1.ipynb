{
 "cells": [
  {
   "cell_type": "code",
   "execution_count": 1,
   "metadata": {
    "collapsed": true,
    "pycharm": {
     "name": "#%%\n"
    }
   },
   "outputs": [],
   "source": [
    "# import libraries\n",
    "import pandas as pd\n",
    "import requests\n",
    "import xml.dom.minidom as m\n",
    "import xml.etree.ElementTree as et\n",
    "import time as time\n",
    "import json"
   ]
  },
  {
   "cell_type": "code",
   "execution_count": 2,
   "outputs": [],
   "source": [
    "# make request using get to obtain 1000 Alzheimer (al) id\n",
    "r_al_ids = requests.get(\"https://eutils.ncbi.nlm.nih.gov/entrez/eutils/esearch.fcgi?db=pubmed&term=Alzheimers+AND+2019[pdat]&retmax=1000&retmode=xml\")\n",
    "\n",
    "# parse returned response\n",
    "al_doc = m.parseString(r_al_ids.text)\n",
    "al_idlist = al_doc.getElementsByTagName(\"Id\")\n",
    "\n",
    "# adding ids to id list\n",
    "al_ids = []\n",
    "i = 0\n",
    "while i < 1000:\n",
    "    al_ids.append(al_idlist[i].childNodes[0].wholeText)\n",
    "    i += 1\n"
   ],
   "metadata": {
    "collapsed": false,
    "pycharm": {
     "name": "#%%\n"
    }
   }
  },
  {
   "cell_type": "code",
   "execution_count": 3,
   "outputs": [
    {
     "name": "stdout",
     "output_type": "stream",
     "text": [
      "200\n"
     ]
    }
   ],
   "source": [
    "# get articles identified by ids through POST\n",
    "# create dictionary with parameters for POST\n",
    "al_param = {'db': 'pubmed', 'retmode': 'xml', 'id' : al_ids}\n",
    "r_al = requests.post(\"https://eutils.ncbi.nlm.nih.gov/entrez/eutils/efetch.fcgi\", data = al_param)\n",
    "print(r_al.status_code)"
   ],
   "metadata": {
    "collapsed": false,
    "pycharm": {
     "name": "#%%\n"
    }
   }
  },
  {
   "cell_type": "code",
   "execution_count": 4,
   "outputs": [],
   "source": [
    "with open(\"headers\", \"wb\") as f:\n",
    "    f.write(r_al.text.encode('utf-8'))"
   ],
   "metadata": {
    "collapsed": false,
    "pycharm": {
     "name": "#%%\n"
    }
   }
  },
  {
   "cell_type": "code",
   "execution_count": 5,
   "outputs": [],
   "source": [
    "# function for reading xml file into dictionary\n",
    "# matching each id with its title, abstract, query, and mesh\n",
    "def xml_to_dict(root, dict, query):\n",
    "    for paper in root:\n",
    "        # getting pmid\n",
    "        id = paper.find(\".//PMID\")\n",
    "        id = et.tostring(id, method = 'text').decode()\n",
    "        # print(id)\n",
    "\n",
    "        # inner dictionary where al_dict{id} = vals\n",
    "        vals = {}\n",
    "\n",
    "        # getting [\"title\", \"abstract\", \"query\", \"mesh\"]\n",
    "        title = paper.find(\".//ArticleTitle\")\n",
    "        if title is None:\n",
    "            title = paper.find(\".//BookTitle\")\n",
    "            if title is None:\n",
    "                title = \"N/A\"\n",
    "        title = et.tostring(title, method = \"text\").decode()\n",
    "        vals[\"title\"] = title\n",
    "\n",
    "        abstract = paper.find(\".//Abstract\")\n",
    "        if abstract is None:\n",
    "            vals[\"abstract\"] = \"N/A\"\n",
    "        else:\n",
    "            abstract = et.tostring(abstract, method = 'text').decode()\n",
    "            vals[\"abstract\"] = abstract\n",
    "\n",
    "        vals[\"query\"] = query\n",
    "\n",
    "        mesh = paper.find(\".//MeshHeading\")\n",
    "        if mesh is None:\n",
    "            vals[\"mesh\"] = \"N/A\"\n",
    "        else:\n",
    "            mesh = et.tostring(mesh, method = 'text').decode()\n",
    "            vals[\"mesh\"] = mesh\n",
    "\n",
    "        dict[id] = vals\n",
    "    return dict"
   ],
   "metadata": {
    "collapsed": false,
    "pycharm": {
     "name": "#%%\n"
    }
   }
  },
  {
   "cell_type": "code",
   "execution_count": 6,
   "outputs": [],
   "source": [
    "# read metadata for Alzheimer\n",
    "al_root = et.fromstring(r_al.text)\n",
    "al_dict = {}\n",
    "al_dict = xml_to_dict(al_root, al_dict, \"Alzheimer's\")\n",
    "\n",
    "# and save information from post request as json file\n",
    "with open(\"Alzheimer.json\", \"w\") as f:\n",
    "    json.dump(al_dict, f, indent=4)"
   ],
   "metadata": {
    "collapsed": false,
    "pycharm": {
     "name": "#%%\n"
    }
   }
  },
  {
   "cell_type": "code",
   "execution_count": 7,
   "outputs": [],
   "source": [
    "# make request using get to obtain 1000 cancer (cn) id\n",
    "r_cn_ids = requests.get(\"https://eutils.ncbi.nlm.nih.gov/entrez/eutils/esearch.fcgi?db=pubmed&term=cancer+AND+2019[pdat]&retmax=1000&retmode=xml\")\n",
    "\n",
    "# parse returned response\n",
    "cn_doc = m.parseString(r_cn_ids.text)\n",
    "cn_idlist = cn_doc.getElementsByTagName(\"Id\")\n",
    "\n",
    "# adding ids to id list\n",
    "cn_ids = []\n",
    "i = 0\n",
    "while i < 1000:\n",
    "    cn_ids.append(cn_idlist[i].childNodes[0].wholeText)\n",
    "    i += 1"
   ],
   "metadata": {
    "collapsed": false,
    "pycharm": {
     "name": "#%%\n"
    }
   }
  },
  {
   "cell_type": "code",
   "execution_count": 8,
   "outputs": [
    {
     "name": "stdout",
     "output_type": "stream",
     "text": [
      "200\n"
     ]
    }
   ],
   "source": [
    "# get articles identified by ids through POST\n",
    "# create dictionary with parameters for POST\n",
    "\n",
    "cn_param = {'db': 'pubmed', 'retmode': 'xml', 'id': cn_ids}\n",
    "r_cn = requests.post(\"https://eutils.ncbi.nlm.nih.gov/entrez/eutils/efetch.fcgi\", data = cn_param)\n",
    "\n",
    "print(r_cn.status_code)"
   ],
   "metadata": {
    "collapsed": false,
    "pycharm": {
     "name": "#%%\n"
    }
   }
  },
  {
   "cell_type": "code",
   "execution_count": 9,
   "outputs": [],
   "source": [
    "# read metadata for Alzheimer\n",
    "cn_root = et.fromstring(r_cn.text)\n",
    "cn_dict = {}\n",
    "cn_dict = xml_to_dict(cn_root, cn_dict, \"Cancer\")\n",
    "\n",
    "# and save information from post request as json file\n",
    "with open(\"Cancer.json\", \"w\") as f:\n",
    "    json.dump(cn_dict, f, indent=4)"
   ],
   "metadata": {
    "collapsed": false,
    "pycharm": {
     "name": "#%%\n"
    }
   }
  }
 ],
 "metadata": {
  "kernelspec": {
   "display_name": "Python 3",
   "language": "python",
   "name": "python3"
  },
  "language_info": {
   "codemirror_mode": {
    "name": "ipython",
    "version": 2
   },
   "file_extension": ".py",
   "mimetype": "text/x-python",
   "name": "python",
   "nbconvert_exporter": "python",
   "pygments_lexer": "ipython2",
   "version": "2.7.6"
  }
 },
 "nbformat": 4,
 "nbformat_minor": 0
}