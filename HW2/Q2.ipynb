{
 "cells": [
  {
   "cell_type": "code",
   "execution_count": 83,
   "outputs": [],
   "source": [
    "# import libraries\n",
    "import seaborn as sbs\n",
    "import pandas as pd\n",
    "\n",
    "# import data using code given\n",
    "from Bio import SeqIO\n",
    "human_genome = SeqIO.parse(\"GCA_000001405.28_GRCh38.p13_genomic.fna\", \"fasta\")"
   ],
   "metadata": {
    "collapsed": false,
    "pycharm": {
     "name": "#%%\n"
    }
   }
  },
  {
   "cell_type": "code",
   "execution_count": 57,
   "outputs": [
    {
     "name": "stdout",
     "output_type": "stream",
     "text": [
      "240548031\n"
     ]
    }
   ],
   "source": [
    "# used code given to help loop through the entire chromosome across\n",
    "# all 15-mers and find the total number of subsequences with more than 2 N's\n",
    "less_than_two_n = 0\n",
    "for chromosome in human_genome:\n",
    "    if chromosome.name == \"CM000664.2\":\n",
    "        sequence = str(chromosome.seq).lower().encode('utf8', errors='ignore')\n",
    "        s_len = len(sequence)\n",
    "\n",
    "        # if length of sequence <= 15, then do not enter while loop\n",
    "        if s_len <= 15 and sequence.count('n'.encode('utf8')) < 3:\n",
    "            less_than_two_n += 1\n",
    "            continue\n",
    "        # if length of sequence > 15, evaluate each 15-char substring\n",
    "        i = 0\n",
    "        while i + 15 <= s_len:\n",
    "            subseq = sequence[i:i+15]\n",
    "            if subseq.count('n'.encode('utf8')) < 3: less_than_two_n += 1\n",
    "            i += 1\n",
    "print(less_than_two_n)"
   ],
   "metadata": {
    "collapsed": false,
    "pycharm": {
     "name": "#%%\n"
    }
   }
  },
  {
   "cell_type": "code",
   "execution_count": 58,
   "outputs": [],
   "source": [
    "# estimate the number of distinct 15-mers in the reference genome's chromosome 2\n",
    "# using method discussed in class\n",
    "# using 100 hash functions from the given family in a single pass through the sequences\n",
    "p = 2_549_536_629_329\n",
    "bits_48 = 2 ** 48 - 1\n",
    "scale = 0x07ffffffff\n",
    "from hashlib import sha256\n",
    "def get_ath_hash(a):\n",
    "    def my_hash(subseq):\n",
    "        return (((int(sha256(subseq.encode(\"utf8\")).hexdigest(), 16) % bits_48) * a) % p) & scale\n",
    "    return my_hash"
   ],
   "metadata": {
    "collapsed": false,
    "pycharm": {
     "name": "#%%\n"
    }
   }
  },
  {
   "cell_type": "code",
   "execution_count": 84,
   "outputs": [
    {
     "name": "stdout",
     "output_type": "stream",
     "text": [
      "test 1: Correct answer should be 17\n",
      "Observed answer is 17 \n",
      "\n",
      "test 2: Correct answer should be 15\n",
      "Observed answer is 15 \n",
      "\n",
      "test 3: Correct answer should be 2\n",
      "Observed answer is 2 \n",
      "\n",
      "test 3: trying algorithm on chromosome 2\n",
      "144698064\n"
     ]
    }
   ],
   "source": [
    "def distinct_vals(seq, a):\n",
    "    if len(seq) < 15: return 0\n",
    "    i = 0\n",
    "    hashes = set()\n",
    "    h_num = get_ath_hash(a)\n",
    "    while i + 15 <= len(seq):\n",
    "        subseq = seq[i:i+15]\n",
    "        i += 1\n",
    "        # print(subseq, i)\n",
    "        hashes.add(h_num(subseq))\n",
    "    return len(hashes)\n",
    "\n",
    "# test on simple data\n",
    "data_1 = \"abcdefghijklmnopqabcdefghijklmno\"\n",
    "data_2 = \"ctagctagctagctagctagcccccccccccc\"\n",
    "data_3 = \"acacacacacacacacacacacacacacacac\"\n",
    "print(\"test 1: Correct answer should be 17\")\n",
    "print(\"Observed answer is\", distinct_vals(data_1, 10), \"\\n\")\n",
    "print(\"test 2: Correct answer should be 15\")\n",
    "print(\"Observed answer is\", distinct_vals(data_2, 10), \"\\n\")\n",
    "print(\"test 3: Correct answer should be 2\")\n",
    "print(\"Observed answer is\", distinct_vals(data_3, 10), \"\\n\")\n",
    "\n",
    "# test on chromosome\n",
    "for chromosome in human_genome:\n",
    "    if chromosome.name == \"CM000664.2\":\n",
    "        sequence = str(chromosome.seq).lower()\n",
    "        # note that 1 billion is approxiamtely 2^30\n",
    "        print(\"test 4: trying algorithm on chromosome 2\")\n",
    "        print(distinct_vals(sequence, 30))"
   ],
   "metadata": {
    "collapsed": false,
    "pycharm": {
     "name": "#%%\n"
    }
   }
  }
 ],
 "metadata": {
  "kernelspec": {
   "display_name": "Python 3",
   "language": "python",
   "name": "python3"
  },
  "language_info": {
   "codemirror_mode": {
    "name": "ipython",
    "version": 2
   },
   "file_extension": ".py",
   "mimetype": "text/x-python",
   "name": "python",
   "nbconvert_exporter": "python",
   "pygments_lexer": "ipython2",
   "version": "2.7.6"
  }
 },
 "nbformat": 4,
 "nbformat_minor": 0
}