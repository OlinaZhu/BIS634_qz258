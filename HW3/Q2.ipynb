{
 "cells": [
  {
   "cell_type": "code",
   "execution_count": 149,
   "metadata": {
    "collapsed": true
   },
   "outputs": [],
   "source": [
    "# import libraries\n",
    "import pandas as pd\n",
    "import numpy as np\n",
    "import seaborn as sns\n",
    "import requests\n",
    "import xml.dom.minidom as m\n",
    "import xml.etree.ElementTree as et\n",
    "import time as time\n",
    "import json\n",
    "from matplotlib import pyplot as plt"
   ]
  },
  {
   "cell_type": "code",
   "execution_count": 150,
   "outputs": [],
   "source": [
    "# import data for Alzheimer articles\n",
    "al_dict = {}\n",
    "with open(\"Alzheimer.json\") as f:\n",
    "    al_dict = json.load(f)"
   ],
   "metadata": {
    "collapsed": false,
    "pycharm": {
     "name": "#%%\n"
    }
   }
  },
  {
   "cell_type": "code",
   "execution_count": 151,
   "outputs": [],
   "source": [
    "# import data for cancer articles\n",
    "cn_dict = {}\n",
    "with open(\"Cancer.json\") as f:\n",
    "    cn_dict = json.load(f)"
   ],
   "metadata": {
    "collapsed": false,
    "pycharm": {
     "name": "#%%\n"
    }
   }
  },
  {
   "cell_type": "code",
   "execution_count": 152,
   "outputs": [
    {
     "data": {
      "text/plain": "                                                      title  \\\n33939349  Electroconvulsive Therapy for the Treatment of...   \n33841007  Gintonin facilitates brain delivery of donepez...   \n33627920  Bayesian Scalar on Image Regression With Nonig...   \n33463291  The Structural Basis of Amyloid Strains in Alz...   \n33323224  Healthy ageing through internet counselling in...   \n\n                                                   abstract        query  \\\n33939349  Dementia refers to a state of cognitive impair...  Alzheimer's   \n33841007  Gintonin is a ginseng-derived exogenous G-prot...  Alzheimer's   \n33627920  Medical imaging has become an increasingly imp...  Alzheimer's   \n33463291  Amyloid fibrils represent one of the defining ...  Alzheimer's   \n33323224  Although web-based interventions have been pro...  Alzheimer's   \n\n                       mesh  \n33939349                N/A  \n33841007                N/A  \n33627920                N/A  \n33463291  Alzheimer Disease  \n33323224               Aged  ",
      "text/html": "<div>\n<style scoped>\n    .dataframe tbody tr th:only-of-type {\n        vertical-align: middle;\n    }\n\n    .dataframe tbody tr th {\n        vertical-align: top;\n    }\n\n    .dataframe thead th {\n        text-align: right;\n    }\n</style>\n<table border=\"1\" class=\"dataframe\">\n  <thead>\n    <tr style=\"text-align: right;\">\n      <th></th>\n      <th>title</th>\n      <th>abstract</th>\n      <th>query</th>\n      <th>mesh</th>\n    </tr>\n  </thead>\n  <tbody>\n    <tr>\n      <th>33939349</th>\n      <td>Electroconvulsive Therapy for the Treatment of...</td>\n      <td>Dementia refers to a state of cognitive impair...</td>\n      <td>Alzheimer's</td>\n      <td>N/A</td>\n    </tr>\n    <tr>\n      <th>33841007</th>\n      <td>Gintonin facilitates brain delivery of donepez...</td>\n      <td>Gintonin is a ginseng-derived exogenous G-prot...</td>\n      <td>Alzheimer's</td>\n      <td>N/A</td>\n    </tr>\n    <tr>\n      <th>33627920</th>\n      <td>Bayesian Scalar on Image Regression With Nonig...</td>\n      <td>Medical imaging has become an increasingly imp...</td>\n      <td>Alzheimer's</td>\n      <td>N/A</td>\n    </tr>\n    <tr>\n      <th>33463291</th>\n      <td>The Structural Basis of Amyloid Strains in Alz...</td>\n      <td>Amyloid fibrils represent one of the defining ...</td>\n      <td>Alzheimer's</td>\n      <td>Alzheimer Disease</td>\n    </tr>\n    <tr>\n      <th>33323224</th>\n      <td>Healthy ageing through internet counselling in...</td>\n      <td>Although web-based interventions have been pro...</td>\n      <td>Alzheimer's</td>\n      <td>Aged</td>\n    </tr>\n  </tbody>\n</table>\n</div>"
     },
     "execution_count": 152,
     "metadata": {},
     "output_type": "execute_result"
    }
   ],
   "source": [
    "# create dataframe from al_dict\n",
    "al_df = pd.DataFrame.from_dict(al_dict, orient='index')\n",
    "al_df.head()"
   ],
   "metadata": {
    "collapsed": false,
    "pycharm": {
     "name": "#%%\n"
    }
   }
  },
  {
   "cell_type": "code",
   "execution_count": 153,
   "outputs": [
    {
     "data": {
      "text/plain": "                                                      title  \\\n34590506  Diarylpentanones from the root of Wikstroemia ...   \n34539049  Re-evaluating standards of human subjects prot...   \n34539046  Inference for L-estimators of location using a...   \n34493369  The ITGB6 gene: its role in experimental and c...   \n34460208         Advancing the Science of Cancer in Latinos   \n\n                                                   abstract   query  \\\n34590506  One new diarylpentanone, 4(S)-hydroxy-1, 5-dip...  Cancer   \n34539049  This study addresses ethical questions about c...  Cancer   \n34539046  In this note we propose a new semi-parametric ...  Cancer   \n34493369  Integrin &#945;v&#946;6 is a membrane-spanning...  Cancer   \n34460208  Cancer is the leading cause of death among Lat...  Cancer   \n\n                mesh  \n34590506  A549 Cells  \n34539049         N/A  \n34539046         N/A  \n34493369     Animals  \n34460208         N/A  ",
      "text/html": "<div>\n<style scoped>\n    .dataframe tbody tr th:only-of-type {\n        vertical-align: middle;\n    }\n\n    .dataframe tbody tr th {\n        vertical-align: top;\n    }\n\n    .dataframe thead th {\n        text-align: right;\n    }\n</style>\n<table border=\"1\" class=\"dataframe\">\n  <thead>\n    <tr style=\"text-align: right;\">\n      <th></th>\n      <th>title</th>\n      <th>abstract</th>\n      <th>query</th>\n      <th>mesh</th>\n    </tr>\n  </thead>\n  <tbody>\n    <tr>\n      <th>34590506</th>\n      <td>Diarylpentanones from the root of Wikstroemia ...</td>\n      <td>One new diarylpentanone, 4(S)-hydroxy-1, 5-dip...</td>\n      <td>Cancer</td>\n      <td>A549 Cells</td>\n    </tr>\n    <tr>\n      <th>34539049</th>\n      <td>Re-evaluating standards of human subjects prot...</td>\n      <td>This study addresses ethical questions about c...</td>\n      <td>Cancer</td>\n      <td>N/A</td>\n    </tr>\n    <tr>\n      <th>34539046</th>\n      <td>Inference for L-estimators of location using a...</td>\n      <td>In this note we propose a new semi-parametric ...</td>\n      <td>Cancer</td>\n      <td>N/A</td>\n    </tr>\n    <tr>\n      <th>34493369</th>\n      <td>The ITGB6 gene: its role in experimental and c...</td>\n      <td>Integrin &amp;#945;v&amp;#946;6 is a membrane-spanning...</td>\n      <td>Cancer</td>\n      <td>Animals</td>\n    </tr>\n    <tr>\n      <th>34460208</th>\n      <td>Advancing the Science of Cancer in Latinos</td>\n      <td>Cancer is the leading cause of death among Lat...</td>\n      <td>Cancer</td>\n      <td>N/A</td>\n    </tr>\n  </tbody>\n</table>\n</div>"
     },
     "execution_count": 153,
     "metadata": {},
     "output_type": "execute_result"
    }
   ],
   "source": [
    "# create dataframe from cn_dict\n",
    "cn_df = pd.DataFrame.from_dict(cn_dict, orient='index')\n",
    "cn_df.head()"
   ],
   "metadata": {
    "collapsed": false,
    "pycharm": {
     "name": "#%%\n"
    }
   }
  },
  {
   "cell_type": "code",
   "execution_count": 154,
   "outputs": [
    {
     "name": "stdout",
     "output_type": "stream",
     "text": [
      "There are 164 Alzheimer papers that have no MeSH terms.\n"
     ]
    }
   ],
   "source": [
    "# count number of Alzheimer papers that have no MeSH terms\n",
    "# note that the finding of mesh terms in Q1 is incorrect hence no mesh terms exist in dataframes, but this is inaccurate\n",
    "al_no_mesh = len(al_df[al_df['mesh'] == \"N/A\"])\n",
    "print(\"There are\", al_no_mesh, \"Alzheimer papers that have no MeSH terms.\")"
   ],
   "metadata": {
    "collapsed": false,
    "pycharm": {
     "name": "#%%\n"
    }
   }
  },
  {
   "cell_type": "code",
   "execution_count": 155,
   "outputs": [
    {
     "name": "stdout",
     "output_type": "stream",
     "text": [
      "There are 756 cancer papers that have no MeSH terms.\n"
     ]
    }
   ],
   "source": [
    "# count number of cancer papers that have no MeSH terms\n",
    "cn_no_mesh = len(cn_df[cn_df['mesh'] == \"N/A\"])\n",
    "print(\"There are\", cn_no_mesh, \"cancer papers that have no MeSH terms.\")"
   ],
   "metadata": {
    "collapsed": false,
    "pycharm": {
     "name": "#%%\n"
    }
   }
  },
  {
   "cell_type": "code",
   "execution_count": 156,
   "outputs": [],
   "source": [
    "# function for finding 10 most frequent mesh terms\n",
    "# returns a dictionary sorted by keys in descending order\n",
    "def mesh_frequency(df):\n",
    "    mesh_counts = {}\n",
    "    meshes = df['mesh']\n",
    "    for m in meshes:\n",
    "        if m not in mesh_counts: mesh_counts[m] = 0\n",
    "        mesh_counts[m] += 1\n",
    "    mesh_counts = sorted(mesh_counts.items(), key=lambda item: item[1], reverse=True)\n",
    "    return mesh_counts"
   ],
   "metadata": {
    "collapsed": false,
    "pycharm": {
     "name": "#%%\n"
    }
   }
  },
  {
   "cell_type": "code",
   "execution_count": 157,
   "outputs": [],
   "source": [
    "# mesh terms in al_df ordered by frequency\n",
    "al_top_10_mesh = mesh_frequency(al_df)\n",
    "al_top_10_mesh = al_top_10_mesh[:11]\n",
    "index_na = [i[0] for i in al_top_10_mesh].index('N/A')\n",
    "na_mesh_al = al_top_10_mesh.pop(index_na)\n",
    "# print(al_top_10_mesh)"
   ],
   "metadata": {
    "collapsed": false,
    "pycharm": {
     "name": "#%%\n"
    }
   }
  },
  {
   "cell_type": "code",
   "execution_count": 158,
   "outputs": [
    {
     "data": {
      "text/plain": "<Figure size 432x288 with 1 Axes>",
      "image/png": "[encoded data removed]"
     },
     "metadata": {
      "needs_background": "light"
     },
     "output_type": "display_data"
    }
   ],
   "source": [
    "# plot frequency of 10 most common al_df mesh terms\n",
    "al_x = [i[0] for i in al_top_10_mesh]\n",
    "# print(al_x)\n",
    "al_y = [i[1] for i in al_top_10_mesh]\n",
    "# print(al_y)\n",
    "\n",
    "plt.bar(range(len(al_top_10_mesh)), al_y, tick_label=al_x)\n",
    "plt.xticks(rotation='vertical')\n",
    "plt.show()"
   ],
   "metadata": {
    "collapsed": false,
    "pycharm": {
     "name": "#%%\n"
    }
   }
  },
  {
   "cell_type": "code",
   "execution_count": 159,
   "outputs": [],
   "source": [
    "# 10 most frequent mesh terms in cn_df\n",
    "cn_top_10_mesh = mesh_frequency(cn_df)\n",
    "cn_top_10_mesh = cn_top_10_mesh[:11]\n",
    "index_na = [i[0] for i in cn_top_10_mesh].index('N/A')\n",
    "na_mesh = cn_top_10_mesh.pop(index_na)\n",
    "# print(cn_top_10_mesh)"
   ],
   "metadata": {
    "collapsed": false,
    "pycharm": {
     "name": "#%%\n"
    }
   }
  },
  {
   "cell_type": "code",
   "execution_count": 160,
   "outputs": [
    {
     "name": "stdout",
     "output_type": "stream",
     "text": [
      "['Adult', 'Animals', 'Aged', 'Adolescent', 'Humans', 'Cell Line, Tumor', 'Drug Delivery Systems', 'Biopsy', 'Diagnosis, Differential', 'A549 Cells']\n",
      "[34, 27, 23, 15, 5, 4, 3, 3, 3, 2]\n"
     ]
    },
    {
     "data": {
      "text/plain": "<Figure size 432x288 with 1 Axes>",
      "image/png": "[encoded data removed]"
     },
     "metadata": {
      "needs_background": "light"
     },
     "output_type": "display_data"
    }
   ],
   "source": [
    "# plot frequency of 10 most common cn_df mesh terms\n",
    "cn_x = [i[0] for i in cn_top_10_mesh]\n",
    "print(cn_x)\n",
    "cn_y = [i[1] for i in cn_top_10_mesh]\n",
    "print(cn_y)\n",
    "\n",
    "plt.bar(range(len(cn_top_10_mesh)), cn_y, tick_label=cn_x)\n",
    "plt.xticks(rotation='vertical')\n",
    "plt.show()"
   ],
   "metadata": {
    "collapsed": false,
    "pycharm": {
     "name": "#%%\n"
    }
   }
  },
  {
   "cell_type": "code",
   "execution_count": 161,
   "outputs": [
    {
     "name": "stdout",
     "output_type": "stream",
     "text": [
      "['Aged', 'Alzheimer Disease', 'Alzheimer Diseasemetabolism', 'Adult', 'Alzheimer Diseasemetabolismpathology'] \n",
      " ['Adult', 'Animals', 'Aged', 'Adolescent', 'Humans']\n",
      "[223, 45, 38, 28, 26] \n",
      " [34, 27, 23, 15, 5]\n"
     ]
    },
    {
     "data": {
      "text/plain": "                                     Adult Animals Aged Adolescent Humans\nAged                                   257     250  246        238    228\nAlzheimer Disease                       79      72   68         60     50\nAlzheimer Diseasemetabolism             72      65   61         53     43\nAdult                                   62      55   51         43     33\nAlzheimer Diseasemetabolismpathology    60      53   49         41     31",
      "text/html": "<div>\n<style scoped>\n    .dataframe tbody tr th:only-of-type {\n        vertical-align: middle;\n    }\n\n    .dataframe tbody tr th {\n        vertical-align: top;\n    }\n\n    .dataframe thead th {\n        text-align: right;\n    }\n</style>\n<table border=\"1\" class=\"dataframe\">\n  <thead>\n    <tr style=\"text-align: right;\">\n      <th></th>\n      <th>Adult</th>\n      <th>Animals</th>\n      <th>Aged</th>\n      <th>Adolescent</th>\n      <th>Humans</th>\n    </tr>\n  </thead>\n  <tbody>\n    <tr>\n      <th>Aged</th>\n      <td>257</td>\n      <td>250</td>\n      <td>246</td>\n      <td>238</td>\n      <td>228</td>\n    </tr>\n    <tr>\n      <th>Alzheimer Disease</th>\n      <td>79</td>\n      <td>72</td>\n      <td>68</td>\n      <td>60</td>\n      <td>50</td>\n    </tr>\n    <tr>\n      <th>Alzheimer Diseasemetabolism</th>\n      <td>72</td>\n      <td>65</td>\n      <td>61</td>\n      <td>53</td>\n      <td>43</td>\n    </tr>\n    <tr>\n      <th>Adult</th>\n      <td>62</td>\n      <td>55</td>\n      <td>51</td>\n      <td>43</td>\n      <td>33</td>\n    </tr>\n    <tr>\n      <th>Alzheimer Diseasemetabolismpathology</th>\n      <td>60</td>\n      <td>53</td>\n      <td>49</td>\n      <td>41</td>\n      <td>31</td>\n    </tr>\n  </tbody>\n</table>\n</div>"
     },
     "execution_count": 161,
     "metadata": {},
     "output_type": "execute_result"
    }
   ],
   "source": [
    "# table comparing number of articles from cn_df and al_df that have both matching mesh terms as specified in homework manual\n",
    "al_top_5_mesh = al_x[:5]\n",
    "al_top_5_mesh_freq = al_y[:5]\n",
    "\n",
    "cn_top_5_mesh = cn_x[:5]\n",
    "cn_top_5_mesh_freq = cn_y[:5]\n",
    "print(al_top_5_mesh, '\\n', cn_top_5_mesh)\n",
    "print(al_top_5_mesh_freq, '\\n', cn_top_5_mesh_freq)\n",
    "\n",
    "al_cn_mesh = pd.DataFrame(index=al_top_5_mesh, columns=cn_top_5_mesh)\n",
    "\n",
    "i = 0\n",
    "while i < 5:\n",
    "    j = 0\n",
    "    while j < 5:\n",
    "        al_cn_mesh.iloc[i][j] = al_top_5_mesh_freq[i] + cn_top_5_mesh_freq[j]\n",
    "        j += 1\n",
    "    i += 1\n",
    "\n",
    "al_cn_mesh.head()"
   ],
   "metadata": {
    "collapsed": false,
    "pycharm": {
     "name": "#%%\n"
    }
   }
  }
 ],
 "metadata": {
  "kernelspec": {
   "display_name": "Python 3",
   "language": "python",
   "name": "python3"
  },
  "language_info": {
   "codemirror_mode": {
    "name": "ipython",
    "version": 2
   },
   "file_extension": ".py",
   "mimetype": "text/x-python",
   "name": "python",
   "nbconvert_exporter": "python",
   "pygments_lexer": "ipython2",
   "version": "2.7.6"
  }
 },
 "nbformat": 4,
 "nbformat_minor": 0
}